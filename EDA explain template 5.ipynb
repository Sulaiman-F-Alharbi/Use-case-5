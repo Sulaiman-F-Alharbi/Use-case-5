{
 "cells": [
  {
   "cell_type": "code",
   "execution_count": 61,
   "id": "e69c4ba1-85f3-4a02-ae37-c64347a01803",
   "metadata": {},
   "outputs": [],
   "source": [
    "#Import all relevant libraries\n",
    "import re\n",
    "import dtale\n",
    "import dtale.app as dtale_app\n",
    "import numpy as np\n",
    "import pandas as pd\n",
    "import matplotlib.pyplot as plt\n",
    "import seaborn as sns\n",
    "from scipy.stats import zscore\n",
    "from hijri_converter import Hijri, Gregorian\n",
    " \n",
    "## This statement allows the visuals to render within your Jupyter Notebook.\n",
    "%matplotlib inline"
   ]
  },
  {
   "cell_type": "markdown",
   "id": "e395e8bf-b530-4720-8d0f-26811e927d6e",
   "metadata": {},
   "source": [
    "## Loading the data\n",
    "We can now load the dataset into pandas using the read_csv() function. This converts the CSV file into a Pandas dataframe."
   ]
  },
  {
   "cell_type": "code",
   "execution_count": 2,
   "id": "cf4030b0-aa7f-4bd7-8e9c-c1b7f4d202d0",
   "metadata": {},
   "outputs": [],
   "source": [
    "#Read in the csv file and convert to a Pandas dataframe\n",
    "jadarat_df = pd.read_csv('Data/Jadarat_data.csv')"
   ]
  },
  {
   "cell_type": "markdown",
   "id": "ca5ed983-0f72-43eb-8168-6fafd48c562e",
   "metadata": {},
   "source": [
    "### Viewing the dataframe\n",
    "We can get a quick sense of the size of our dataset by using the shape method. This returns a tuple with the number of rows and columns in the dataset."
   ]
  },
  {
   "cell_type": "code",
   "execution_count": 73,
   "id": "d35f1963",
   "metadata": {},
   "outputs": [
    {
     "data": {
      "text/plain": []
     },
     "execution_count": 73,
     "metadata": {},
     "output_type": "execute_result"
    }
   ],
   "source": [
    "dtale.show(jadarat_df, open_browser=True)"
   ]
  },
  {
   "cell_type": "code",
   "execution_count": 3,
   "id": "bfde0b69-613c-4dd1-8ebf-e4d2e570e653",
   "metadata": {},
   "outputs": [
    {
     "data": {
      "text/html": [
       "<div>\n",
       "<style scoped>\n",
       "    .dataframe tbody tr th:only-of-type {\n",
       "        vertical-align: middle;\n",
       "    }\n",
       "\n",
       "    .dataframe tbody tr th {\n",
       "        vertical-align: top;\n",
       "    }\n",
       "\n",
       "    .dataframe thead th {\n",
       "        text-align: right;\n",
       "    }\n",
       "</style>\n",
       "<table border=\"1\" class=\"dataframe\">\n",
       "  <thead>\n",
       "    <tr style=\"text-align: right;\">\n",
       "      <th></th>\n",
       "      <th>job_title</th>\n",
       "      <th>job_date</th>\n",
       "      <th>job_desc</th>\n",
       "      <th>job_tasks</th>\n",
       "      <th>comp_name</th>\n",
       "      <th>comp_no</th>\n",
       "      <th>comp_type</th>\n",
       "      <th>comp_size</th>\n",
       "      <th>eco_activity</th>\n",
       "      <th>qualif</th>\n",
       "      <th>region</th>\n",
       "      <th>city</th>\n",
       "      <th>benefits</th>\n",
       "      <th>contract</th>\n",
       "      <th>positions</th>\n",
       "      <th>job_post_id</th>\n",
       "      <th>exper</th>\n",
       "      <th>gender</th>\n",
       "    </tr>\n",
       "  </thead>\n",
       "  <tbody>\n",
       "    <tr>\n",
       "      <th>0</th>\n",
       "      <td>محاسب</td>\n",
       "      <td>27/05/1444</td>\n",
       "      <td>['إعداد وتنظيم مستندات الصرف ومتابعة تحصيل الإ...</td>\n",
       "      <td>['   تدقيق المطالبات المالية والتأكد من اكتمال...</td>\n",
       "      <td>شركة مقر العالم للسفريات</td>\n",
       "      <td>1-317262</td>\n",
       "      <td>خاص</td>\n",
       "      <td>متوسطة فئة أ</td>\n",
       "      <td>أنشطة وكالات السياحة والسفر</td>\n",
       "      <td>['Language data', 'اللغة الانجليزية', 'محترف']</td>\n",
       "      <td>الرياض</td>\n",
       "      <td>AR RIYADH...</td>\n",
       "      <td>['Salary', '5000.0']</td>\n",
       "      <td>دوام كامل</td>\n",
       "      <td>0 / 1</td>\n",
       "      <td>20202026350419</td>\n",
       "      <td>0 Years</td>\n",
       "      <td>both</td>\n",
       "    </tr>\n",
       "    <tr>\n",
       "      <th>1</th>\n",
       "      <td>بائع</td>\n",
       "      <td>27/05/1444</td>\n",
       "      <td>['بيع مجموعة من السلع والخدمات للعملاء، وتوفير...</td>\n",
       "      <td>['   بيع مجموعة من السلع والخدمات للعملاء.', '...</td>\n",
       "      <td>شركة عالم الكهرباء للمقاولات</td>\n",
       "      <td>4-1324428</td>\n",
       "      <td>خاص</td>\n",
       "      <td>متوسطة فئة ب</td>\n",
       "      <td>تركيب انظمة التبريد وتكييف الهواء وصيانتها واص...</td>\n",
       "      <td>NaN</td>\n",
       "      <td>المنطقة الشرقية</td>\n",
       "      <td>AD DAMMAM...</td>\n",
       "      <td>['Salary', '5000.0']</td>\n",
       "      <td>دوام كامل</td>\n",
       "      <td>0 / 3</td>\n",
       "      <td>20202026350389</td>\n",
       "      <td>0 Years</td>\n",
       "      <td>both</td>\n",
       "    </tr>\n",
       "    <tr>\n",
       "      <th>2</th>\n",
       "      <td>أخصائي عمليات موارد بشرية</td>\n",
       "      <td>27/05/1444</td>\n",
       "      <td>['تنفيذ الإجراءات والأنظمة والنماذج الخاصة بمر...</td>\n",
       "      <td>['   تنفيذ الإجراءات والأنظمة والنماذج الخاصة ...</td>\n",
       "      <td>شركه دار السلام</td>\n",
       "      <td>1-155294</td>\n",
       "      <td>خاص</td>\n",
       "      <td>متوسطة فئة أ</td>\n",
       "      <td>ترميمات المباني السكنية والغير سكنية</td>\n",
       "      <td>['Language data', 'الانجليزيه', 'محترف']</td>\n",
       "      <td>الرياض</td>\n",
       "      <td>ATH THUMA...</td>\n",
       "      <td>['Salary', '4000.0']</td>\n",
       "      <td>دوام كامل</td>\n",
       "      <td>0 / 2</td>\n",
       "      <td>20202026350347</td>\n",
       "      <td>2 Years</td>\n",
       "      <td>both</td>\n",
       "    </tr>\n",
       "    <tr>\n",
       "      <th>3</th>\n",
       "      <td>ميكانيكي سيارات</td>\n",
       "      <td>27/05/1444</td>\n",
       "      <td>['تشخيص أعطال السيارات وإصلاحها وتنفيذ برامج ا...</td>\n",
       "      <td>['   فحص أداء المعدّات الكهربائية والميكانيكية...</td>\n",
       "      <td>مؤسسة لمكو لغيار الزيوت</td>\n",
       "      <td>8-1925495</td>\n",
       "      <td>خاص</td>\n",
       "      <td>صغيرة فئة ب</td>\n",
       "      <td>NaN</td>\n",
       "      <td>['Skill data', 'صيانة السيارات وتقييم الاعطال'...</td>\n",
       "      <td>المنطقة الشرقية</td>\n",
       "      <td>AL HUFUF...</td>\n",
       "      <td>['Salary', '5000.0']</td>\n",
       "      <td>دوام كامل</td>\n",
       "      <td>0 / 10</td>\n",
       "      <td>20202026350219</td>\n",
       "      <td>0 Years</td>\n",
       "      <td>M</td>\n",
       "    </tr>\n",
       "    <tr>\n",
       "      <th>4</th>\n",
       "      <td>محاسب</td>\n",
       "      <td>27/05/1444</td>\n",
       "      <td>['إعداد وتنظيم مستندات الصرف ومتابعة تحصيل الإ...</td>\n",
       "      <td>['   تدقيق المطالبات المالية والتأكد من اكتمال...</td>\n",
       "      <td>مؤسسة فكرة اليمامة للمقاولات</td>\n",
       "      <td>1-2356639</td>\n",
       "      <td>خاص</td>\n",
       "      <td>كبيرة</td>\n",
       "      <td>الإنشاءات العامة للمباني السكنية</td>\n",
       "      <td>['Skill data', 'تحمل ضغط العمل', 'محترف', 'Lan...</td>\n",
       "      <td>الرياض</td>\n",
       "      <td>AR RIYADH...</td>\n",
       "      <td>['Salary', '5000.0']</td>\n",
       "      <td>دوام كامل</td>\n",
       "      <td>0 / 1</td>\n",
       "      <td>20202026350043</td>\n",
       "      <td>0 Years</td>\n",
       "      <td>both</td>\n",
       "    </tr>\n",
       "  </tbody>\n",
       "</table>\n",
       "</div>"
      ],
      "text/plain": [
       "                   job_title    job_date  \\\n",
       "0                      محاسب  27/05/1444   \n",
       "1                       بائع  27/05/1444   \n",
       "2  أخصائي عمليات موارد بشرية  27/05/1444   \n",
       "3            ميكانيكي سيارات  27/05/1444   \n",
       "4                      محاسب  27/05/1444   \n",
       "\n",
       "                                            job_desc  \\\n",
       "0  ['إعداد وتنظيم مستندات الصرف ومتابعة تحصيل الإ...   \n",
       "1  ['بيع مجموعة من السلع والخدمات للعملاء، وتوفير...   \n",
       "2  ['تنفيذ الإجراءات والأنظمة والنماذج الخاصة بمر...   \n",
       "3  ['تشخيص أعطال السيارات وإصلاحها وتنفيذ برامج ا...   \n",
       "4  ['إعداد وتنظيم مستندات الصرف ومتابعة تحصيل الإ...   \n",
       "\n",
       "                                           job_tasks  \\\n",
       "0  ['   تدقيق المطالبات المالية والتأكد من اكتمال...   \n",
       "1  ['   بيع مجموعة من السلع والخدمات للعملاء.', '...   \n",
       "2  ['   تنفيذ الإجراءات والأنظمة والنماذج الخاصة ...   \n",
       "3  ['   فحص أداء المعدّات الكهربائية والميكانيكية...   \n",
       "4  ['   تدقيق المطالبات المالية والتأكد من اكتمال...   \n",
       "\n",
       "                      comp_name    comp_no comp_type     comp_size  \\\n",
       "0      شركة مقر العالم للسفريات   1-317262       خاص  متوسطة فئة أ   \n",
       "1  شركة عالم الكهرباء للمقاولات  4-1324428       خاص  متوسطة فئة ب   \n",
       "2               شركه دار السلام   1-155294       خاص  متوسطة فئة أ   \n",
       "3       مؤسسة لمكو لغيار الزيوت  8-1925495       خاص   صغيرة فئة ب   \n",
       "4  مؤسسة فكرة اليمامة للمقاولات  1-2356639       خاص         كبيرة   \n",
       "\n",
       "                                        eco_activity  \\\n",
       "0                        أنشطة وكالات السياحة والسفر   \n",
       "1  تركيب انظمة التبريد وتكييف الهواء وصيانتها واص...   \n",
       "2               ترميمات المباني السكنية والغير سكنية   \n",
       "3                                                NaN   \n",
       "4                   الإنشاءات العامة للمباني السكنية   \n",
       "\n",
       "                                              qualif           region  \\\n",
       "0     ['Language data', 'اللغة الانجليزية', 'محترف']           الرياض   \n",
       "1                                                NaN  المنطقة الشرقية   \n",
       "2           ['Language data', 'الانجليزيه', 'محترف']           الرياض   \n",
       "3  ['Skill data', 'صيانة السيارات وتقييم الاعطال'...  المنطقة الشرقية   \n",
       "4  ['Skill data', 'تحمل ضغط العمل', 'محترف', 'Lan...           الرياض   \n",
       "\n",
       "           city              benefits   contract positions     job_post_id  \\\n",
       "0  AR RIYADH...  ['Salary', '5000.0']  دوام كامل     0 / 1  20202026350419   \n",
       "1  AD DAMMAM...  ['Salary', '5000.0']  دوام كامل     0 / 3  20202026350389   \n",
       "2  ATH THUMA...  ['Salary', '4000.0']  دوام كامل     0 / 2  20202026350347   \n",
       "3   AL HUFUF...  ['Salary', '5000.0']  دوام كامل    0 / 10  20202026350219   \n",
       "4  AR RIYADH...  ['Salary', '5000.0']  دوام كامل     0 / 1  20202026350043   \n",
       "\n",
       "     exper gender  \n",
       "0  0 Years   both  \n",
       "1  0 Years   both  \n",
       "2  2 Years   both  \n",
       "3  0 Years      M  \n",
       "4  0 Years   both  "
      ]
     },
     "execution_count": 3,
     "metadata": {},
     "output_type": "execute_result"
    }
   ],
   "source": [
    "jadarat_df.head()"
   ]
  },
  {
   "cell_type": "markdown",
   "id": "bd2b5bc4-db37-4432-b666-0714afd0c4ca",
   "metadata": {},
   "source": [
    "## 1. Data Profiling:\n",
    "Data profiling is a comprehensive process of examining the data available in an existing dataset and collecting statistics and information about that data. "
   ]
  },
  {
   "cell_type": "markdown",
   "id": "af6bf2de",
   "metadata": {},
   "source": [
    "**We have 18 columns which they are:**\n",
    "<ul>\n",
    "       <li><strong>job_title:</strong> Like the name says it contains the job title name.</li>\n",
    "       <li><strong>job_date:</strong> The date of which the job will start.</li>\n",
    "       <li><strong>job_desc:</strong> Job description, and what is about.</li>\n",
    "       <li><strong>job_tasks:</strong> what are the main tasks the job requires.</li>\n",
    "       <li><strong>comp_name:</strong> The name of the organization or company.</li>\n",
    "       <li><strong>comp_no:</strong> The organization's number.</li>\n",
    "       <li><strong>comp_type:</strong> The company type either Private or Semi governmental.</li>\n",
    "       <li><strong>comp_size:</strong> The company size in different category sizes.</li>\n",
    "       <li><strong>eco_activity:</strong> Basically the company's work filed.</li>\n",
    "       <li><strong>qualif:</strong> the required skills or qualifications.</li>\n",
    "       <li><strong>region:</strong> The job Region</li>\n",
    "       <li><strong>city:</strong> The job's specific City.</li>\n",
    "       <li><strong>benefits:</strong> The salary amount, and other benefits.</li>\n",
    "       <li><strong>contract:</strong> The job contract either Full time, or online job.</li>\n",
    "       <li><strong>positions:</strong> The number positions for the same job, and the accepted candidates.</li>\n",
    "       <li><strong>job_post_id:</strong> The ID of the job post.</li>\n",
    "       <li><strong>exper:</strong> The required years of experience for the job post.</li>\n",
    "       <li><strong>gender:</strong> What gender deos the post prefer or require (either male, female or both).</li>\n",
    "</ul>"
   ]
  },
  {
   "cell_type": "code",
   "execution_count": 4,
   "id": "68813f35",
   "metadata": {},
   "outputs": [
    {
     "data": {
      "text/plain": [
       "array(['دوام كامل', 'عمل عن بعد'], dtype=object)"
      ]
     },
     "execution_count": 4,
     "metadata": {},
     "output_type": "execute_result"
    }
   ],
   "source": [
    "jadarat_df['contract'].unique()"
   ]
  },
  {
   "cell_type": "code",
   "execution_count": 5,
   "id": "672f2081-5a2c-4908-8cbd-29519fb3cac5",
   "metadata": {},
   "outputs": [
    {
     "name": "stdout",
     "output_type": "stream",
     "text": [
      "<class 'pandas.core.frame.DataFrame'>\n",
      "RangeIndex: 1470 entries, 0 to 1469\n",
      "Data columns (total 18 columns):\n",
      " #   Column        Non-Null Count  Dtype \n",
      "---  ------        --------------  ----- \n",
      " 0   job_title     1470 non-null   object\n",
      " 1   job_date      1470 non-null   object\n",
      " 2   job_desc      1470 non-null   object\n",
      " 3   job_tasks     1470 non-null   object\n",
      " 4   comp_name     1470 non-null   object\n",
      " 5   comp_no       1470 non-null   object\n",
      " 6   comp_type     1470 non-null   object\n",
      " 7   comp_size     1456 non-null   object\n",
      " 8   eco_activity  1380 non-null   object\n",
      " 9   qualif        780 non-null    object\n",
      " 10  region        1470 non-null   object\n",
      " 11  city          1470 non-null   object\n",
      " 12  benefits      1470 non-null   object\n",
      " 13  contract      1470 non-null   object\n",
      " 14  positions     1470 non-null   object\n",
      " 15  job_post_id   1470 non-null   int64 \n",
      " 16  exper         1470 non-null   object\n",
      " 17  gender        1470 non-null   object\n",
      "dtypes: int64(1), object(17)\n",
      "memory usage: 206.8+ KB\n"
     ]
    }
   ],
   "source": [
    "jadarat_df.info()"
   ]
  },
  {
   "cell_type": "code",
   "execution_count": 6,
   "id": "8d3b5154",
   "metadata": {},
   "outputs": [
    {
     "data": {
      "text/plain": [
       "(1470, 18)"
      ]
     },
     "execution_count": 6,
     "metadata": {},
     "output_type": "execute_result"
    }
   ],
   "source": [
    "jadarat_df.shape"
   ]
  },
  {
   "cell_type": "code",
   "execution_count": 7,
   "id": "99d64ae2",
   "metadata": {},
   "outputs": [
    {
     "data": {
      "text/html": [
       "<div>\n",
       "<style scoped>\n",
       "    .dataframe tbody tr th:only-of-type {\n",
       "        vertical-align: middle;\n",
       "    }\n",
       "\n",
       "    .dataframe tbody tr th {\n",
       "        vertical-align: top;\n",
       "    }\n",
       "\n",
       "    .dataframe thead th {\n",
       "        text-align: right;\n",
       "    }\n",
       "</style>\n",
       "<table border=\"1\" class=\"dataframe\">\n",
       "  <thead>\n",
       "    <tr style=\"text-align: right;\">\n",
       "      <th></th>\n",
       "      <th>job_post_id</th>\n",
       "    </tr>\n",
       "  </thead>\n",
       "  <tbody>\n",
       "    <tr>\n",
       "      <th>count</th>\n",
       "      <td>1.470000e+03</td>\n",
       "    </tr>\n",
       "    <tr>\n",
       "      <th>mean</th>\n",
       "      <td>2.020203e+13</td>\n",
       "    </tr>\n",
       "    <tr>\n",
       "      <th>std</th>\n",
       "      <td>5.863941e+04</td>\n",
       "    </tr>\n",
       "    <tr>\n",
       "      <th>min</th>\n",
       "      <td>2.020203e+13</td>\n",
       "    </tr>\n",
       "    <tr>\n",
       "      <th>25%</th>\n",
       "      <td>2.020203e+13</td>\n",
       "    </tr>\n",
       "    <tr>\n",
       "      <th>50%</th>\n",
       "      <td>2.020203e+13</td>\n",
       "    </tr>\n",
       "    <tr>\n",
       "      <th>75%</th>\n",
       "      <td>2.020203e+13</td>\n",
       "    </tr>\n",
       "    <tr>\n",
       "      <th>max</th>\n",
       "      <td>2.020203e+13</td>\n",
       "    </tr>\n",
       "  </tbody>\n",
       "</table>\n",
       "</div>"
      ],
      "text/plain": [
       "        job_post_id\n",
       "count  1.470000e+03\n",
       "mean   2.020203e+13\n",
       "std    5.863941e+04\n",
       "min    2.020203e+13\n",
       "25%    2.020203e+13\n",
       "50%    2.020203e+13\n",
       "75%    2.020203e+13\n",
       "max    2.020203e+13"
      ]
     },
     "execution_count": 7,
     "metadata": {},
     "output_type": "execute_result"
    }
   ],
   "source": [
    "jadarat_df.describe()"
   ]
  },
  {
   "cell_type": "code",
   "execution_count": 8,
   "id": "ffb1d0f8",
   "metadata": {},
   "outputs": [
    {
     "data": {
      "text/plain": [
       "Index(['job_title', 'job_date', 'job_desc', 'job_tasks', 'comp_name',\n",
       "       'comp_no', 'comp_type', 'comp_size', 'eco_activity', 'qualif', 'region',\n",
       "       'city', 'benefits', 'contract', 'positions', 'job_post_id', 'exper',\n",
       "       'gender'],\n",
       "      dtype='object')"
      ]
     },
     "execution_count": 8,
     "metadata": {},
     "output_type": "execute_result"
    }
   ],
   "source": [
    "jadarat_df.columns"
   ]
  },
  {
   "cell_type": "markdown",
   "id": "834929aa-fd6a-4ec5-84d4-77c4b3c1a506",
   "metadata": {},
   "source": [
    "The process of profiling differs slightly for categorical and numerical variables due to their inherent differences.\n",
    "\n",
    "**The two main types of data are:**\n",
    "- Quantitative (numerical) data\n",
    "- Qualitative (categorical) data"
   ]
  },
  {
   "cell_type": "markdown",
   "id": "3a9954f5-6fbc-45b4-ad86-3e21b6e0ca2d",
   "metadata": {},
   "source": [
    "### Data Quality Checks\n",
    "Data quality checks involve the process of ensuring that the data is accurate, complete, consistent, relevant, and reliable. \n",
    "\n",
    "\n",
    "**Here are typical steps involved in checking data quality:**"
   ]
  },
  {
   "cell_type": "markdown",
   "id": "4818c876-173d-4e56-9e7d-b4334d2def25",
   "metadata": {},
   "source": [
    "#### 1. Reliability:\n",
    "Evaluate the data's source and collection process to determine its trustworthiness."
   ]
  },
  {
   "cell_type": "markdown",
   "id": "bd21ec70",
   "metadata": {},
   "source": [
    "*********************************************\n",
    "**Data source**: the data collected in Saudi Arabia from Jadarat, and extracted from Kaggle.<br>\n",
    "**Data License**: Public domain liecesnse.\n",
    "*********************************************"
   ]
  },
  {
   "cell_type": "code",
   "execution_count": null,
   "id": "9034ae7b-dc1d-4cba-8f9e-bb499d021cde",
   "metadata": {},
   "outputs": [],
   "source": []
  },
  {
   "cell_type": "markdown",
   "id": "2ce0cc59-8c92-4acc-8d07-c40764e1a86b",
   "metadata": {},
   "source": [
    "#### 2. Timeliness: \n",
    "Ensure the data is up-to-date and reflective of the current situation or the period of interest for the analysis."
   ]
  },
  {
   "cell_type": "markdown",
   "id": "788e81e5",
   "metadata": {},
   "source": [
    "*********************************************\n",
    "**Data Timeliness**: The data was collected between 2022-2023.\n",
    "*********************************************"
   ]
  },
  {
   "cell_type": "code",
   "execution_count": null,
   "id": "4b78ae35-7226-4cb6-b8b2-a46c2ed17cf9",
   "metadata": {},
   "outputs": [],
   "source": []
  },
  {
   "cell_type": "markdown",
   "id": "7fab0fe2-6624-4615-b9d8-3c3669056bf8",
   "metadata": {},
   "source": [
    "#### 3. Consistency: \n",
    "\n",
    "Confirm that the data is consistent within the dataset and across multiple data sources. For example, the same data point should not have different values in different places.\n"
   ]
  },
  {
   "cell_type": "code",
   "execution_count": 9,
   "id": "7fecc573-959f-4800-8ddd-a67985c68b18",
   "metadata": {},
   "outputs": [],
   "source": [
    "#The dataset is consistent especially we only have one dataset"
   ]
  },
  {
   "cell_type": "markdown",
   "id": "bec3d183-bba0-4b12-b963-487daab1e876",
   "metadata": {},
   "source": [
    "#### 4. Relevance: \n",
    "Assess whether the data is appropriate and applicable for the intended analysis. Data that is not relevant can skew results and lead to incorrect conclusions.\n",
    "\n",
    "**Key considerations for relevance include:**\n",
    "\n",
    "> 1. Sample Appropriateness: Confirm that your data sample aligns with your analysis objectives. For instance, utilizing data from the Northern region will not yield accurate insights for the Western region of the Kingdom.\n",
    ">\n",
    "> 2. Variable Selection: Any column will not be relevant for our analysis, we can get rid of these using the drop() method. We will set the “axis” argument to 1 since we’re dealing with columns, and set the “inplace” argument to True to make the change permanent.\n"
   ]
  },
  {
   "cell_type": "markdown",
   "id": "2c48b27b",
   "metadata": {},
   "source": [
    "*********************************************\n",
    "***There are many columns that we don't really need but keeping them will not hurt us, and we still could use them for future analysis.***\n",
    "*********************************************"
   ]
  },
  {
   "cell_type": "code",
   "execution_count": 10,
   "id": "50a934b7-a0cd-443f-8a27-f10e9a6e8647",
   "metadata": {
    "scrolled": true
   },
   "outputs": [
    {
     "data": {
      "text/html": [
       "<div>\n",
       "<style scoped>\n",
       "    .dataframe tbody tr th:only-of-type {\n",
       "        vertical-align: middle;\n",
       "    }\n",
       "\n",
       "    .dataframe tbody tr th {\n",
       "        vertical-align: top;\n",
       "    }\n",
       "\n",
       "    .dataframe thead th {\n",
       "        text-align: right;\n",
       "    }\n",
       "</style>\n",
       "<table border=\"1\" class=\"dataframe\">\n",
       "  <thead>\n",
       "    <tr style=\"text-align: right;\">\n",
       "      <th></th>\n",
       "      <th>job_title</th>\n",
       "      <th>job_date</th>\n",
       "      <th>job_desc</th>\n",
       "      <th>job_tasks</th>\n",
       "      <th>comp_name</th>\n",
       "      <th>comp_no</th>\n",
       "      <th>comp_type</th>\n",
       "      <th>comp_size</th>\n",
       "      <th>eco_activity</th>\n",
       "      <th>qualif</th>\n",
       "      <th>region</th>\n",
       "      <th>city</th>\n",
       "      <th>benefits</th>\n",
       "      <th>contract</th>\n",
       "      <th>positions</th>\n",
       "      <th>job_post_id</th>\n",
       "      <th>exper</th>\n",
       "      <th>gender</th>\n",
       "    </tr>\n",
       "  </thead>\n",
       "  <tbody>\n",
       "    <tr>\n",
       "      <th>0</th>\n",
       "      <td>محاسب</td>\n",
       "      <td>27/05/1444</td>\n",
       "      <td>['إعداد وتنظيم مستندات الصرف ومتابعة تحصيل الإ...</td>\n",
       "      <td>['   تدقيق المطالبات المالية والتأكد من اكتمال...</td>\n",
       "      <td>شركة مقر العالم للسفريات</td>\n",
       "      <td>1-317262</td>\n",
       "      <td>خاص</td>\n",
       "      <td>متوسطة فئة أ</td>\n",
       "      <td>أنشطة وكالات السياحة والسفر</td>\n",
       "      <td>['Language data', 'اللغة الانجليزية', 'محترف']</td>\n",
       "      <td>الرياض</td>\n",
       "      <td>AR RIYADH...</td>\n",
       "      <td>['Salary', '5000.0']</td>\n",
       "      <td>دوام كامل</td>\n",
       "      <td>0 / 1</td>\n",
       "      <td>20202026350419</td>\n",
       "      <td>0 Years</td>\n",
       "      <td>both</td>\n",
       "    </tr>\n",
       "    <tr>\n",
       "      <th>1</th>\n",
       "      <td>بائع</td>\n",
       "      <td>27/05/1444</td>\n",
       "      <td>['بيع مجموعة من السلع والخدمات للعملاء، وتوفير...</td>\n",
       "      <td>['   بيع مجموعة من السلع والخدمات للعملاء.', '...</td>\n",
       "      <td>شركة عالم الكهرباء للمقاولات</td>\n",
       "      <td>4-1324428</td>\n",
       "      <td>خاص</td>\n",
       "      <td>متوسطة فئة ب</td>\n",
       "      <td>تركيب انظمة التبريد وتكييف الهواء وصيانتها واص...</td>\n",
       "      <td>NaN</td>\n",
       "      <td>المنطقة الشرقية</td>\n",
       "      <td>AD DAMMAM...</td>\n",
       "      <td>['Salary', '5000.0']</td>\n",
       "      <td>دوام كامل</td>\n",
       "      <td>0 / 3</td>\n",
       "      <td>20202026350389</td>\n",
       "      <td>0 Years</td>\n",
       "      <td>both</td>\n",
       "    </tr>\n",
       "  </tbody>\n",
       "</table>\n",
       "</div>"
      ],
      "text/plain": [
       "  job_title    job_date                                           job_desc  \\\n",
       "0     محاسب  27/05/1444  ['إعداد وتنظيم مستندات الصرف ومتابعة تحصيل الإ...   \n",
       "1      بائع  27/05/1444  ['بيع مجموعة من السلع والخدمات للعملاء، وتوفير...   \n",
       "\n",
       "                                           job_tasks  \\\n",
       "0  ['   تدقيق المطالبات المالية والتأكد من اكتمال...   \n",
       "1  ['   بيع مجموعة من السلع والخدمات للعملاء.', '...   \n",
       "\n",
       "                      comp_name    comp_no comp_type     comp_size  \\\n",
       "0      شركة مقر العالم للسفريات   1-317262       خاص  متوسطة فئة أ   \n",
       "1  شركة عالم الكهرباء للمقاولات  4-1324428       خاص  متوسطة فئة ب   \n",
       "\n",
       "                                        eco_activity  \\\n",
       "0                        أنشطة وكالات السياحة والسفر   \n",
       "1  تركيب انظمة التبريد وتكييف الهواء وصيانتها واص...   \n",
       "\n",
       "                                           qualif           region  \\\n",
       "0  ['Language data', 'اللغة الانجليزية', 'محترف']           الرياض   \n",
       "1                                             NaN  المنطقة الشرقية   \n",
       "\n",
       "           city              benefits   contract positions     job_post_id  \\\n",
       "0  AR RIYADH...  ['Salary', '5000.0']  دوام كامل     0 / 1  20202026350419   \n",
       "1  AD DAMMAM...  ['Salary', '5000.0']  دوام كامل     0 / 3  20202026350389   \n",
       "\n",
       "     exper gender  \n",
       "0  0 Years   both  \n",
       "1  0 Years   both  "
      ]
     },
     "execution_count": 10,
     "metadata": {},
     "output_type": "execute_result"
    }
   ],
   "source": [
    "jadarat_df.head(2)"
   ]
  },
  {
   "cell_type": "code",
   "execution_count": null,
   "id": "6c1817d8",
   "metadata": {},
   "outputs": [],
   "source": []
  },
  {
   "cell_type": "markdown",
   "id": "0f5e3a2a-bbb7-4d06-8220-c93277b70146",
   "metadata": {},
   "source": [
    "#### 5. Uniqueness: \n",
    "Check for and remove duplicate records to prevent skewed analysis results.\n"
   ]
  },
  {
   "cell_type": "markdown",
   "id": "dc03fa62",
   "metadata": {},
   "source": [
    "*********************************************\n",
    "We only found 1 duplicate we dropped it, because we think the job issuer sended the job request 2 times.\n",
    "*********************************************"
   ]
  },
  {
   "cell_type": "code",
   "execution_count": 11,
   "id": "a509a7aa-58f4-4d39-8eb8-e8298a21f2a7",
   "metadata": {},
   "outputs": [
    {
     "data": {
      "text/plain": [
       "1"
      ]
     },
     "execution_count": 11,
     "metadata": {},
     "output_type": "execute_result"
    }
   ],
   "source": [
    "jadarat_df.duplicated().sum()"
   ]
  },
  {
   "cell_type": "code",
   "execution_count": 12,
   "id": "61e392b2",
   "metadata": {},
   "outputs": [
    {
     "data": {
      "text/html": [
       "<div>\n",
       "<style scoped>\n",
       "    .dataframe tbody tr th:only-of-type {\n",
       "        vertical-align: middle;\n",
       "    }\n",
       "\n",
       "    .dataframe tbody tr th {\n",
       "        vertical-align: top;\n",
       "    }\n",
       "\n",
       "    .dataframe thead th {\n",
       "        text-align: right;\n",
       "    }\n",
       "</style>\n",
       "<table border=\"1\" class=\"dataframe\">\n",
       "  <thead>\n",
       "    <tr style=\"text-align: right;\">\n",
       "      <th></th>\n",
       "      <th>job_title</th>\n",
       "      <th>job_date</th>\n",
       "      <th>job_desc</th>\n",
       "      <th>job_tasks</th>\n",
       "      <th>comp_name</th>\n",
       "      <th>comp_no</th>\n",
       "      <th>comp_type</th>\n",
       "      <th>comp_size</th>\n",
       "      <th>eco_activity</th>\n",
       "      <th>qualif</th>\n",
       "      <th>region</th>\n",
       "      <th>city</th>\n",
       "      <th>benefits</th>\n",
       "      <th>contract</th>\n",
       "      <th>positions</th>\n",
       "      <th>job_post_id</th>\n",
       "      <th>exper</th>\n",
       "      <th>gender</th>\n",
       "    </tr>\n",
       "  </thead>\n",
       "  <tbody>\n",
       "    <tr>\n",
       "      <th>1469</th>\n",
       "      <td>صيدلي</td>\n",
       "      <td>18/06/1444</td>\n",
       "      <td>['دراسة التركيبات الدوائية للعقاقير والعلاجات ...</td>\n",
       "      <td>['   دراسة مواصفات وتركيبات الادوية والعقاقير ...</td>\n",
       "      <td>شركة تقنية الدواجن والألبان للتجارة</td>\n",
       "      <td>1-2415250</td>\n",
       "      <td>خاص</td>\n",
       "      <td>صغيرة فئة ب</td>\n",
       "      <td>NaN</td>\n",
       "      <td>['Professional certificate \\\\ License data', '...</td>\n",
       "      <td>الرياض</td>\n",
       "      <td>AR RIYADH...</td>\n",
       "      <td>['Salary', '7000.0']</td>\n",
       "      <td>دوام كامل</td>\n",
       "      <td>0 / 1</td>\n",
       "      <td>20202026399061</td>\n",
       "      <td>0 Years</td>\n",
       "      <td>both</td>\n",
       "    </tr>\n",
       "  </tbody>\n",
       "</table>\n",
       "</div>"
      ],
      "text/plain": [
       "     job_title    job_date                                           job_desc  \\\n",
       "1469     صيدلي  18/06/1444  ['دراسة التركيبات الدوائية للعقاقير والعلاجات ...   \n",
       "\n",
       "                                              job_tasks  \\\n",
       "1469  ['   دراسة مواصفات وتركيبات الادوية والعقاقير ...   \n",
       "\n",
       "                                comp_name    comp_no comp_type    comp_size  \\\n",
       "1469  شركة تقنية الدواجن والألبان للتجارة  1-2415250       خاص  صغيرة فئة ب   \n",
       "\n",
       "     eco_activity                                             qualif  region  \\\n",
       "1469          NaN  ['Professional certificate \\\\ License data', '...  الرياض   \n",
       "\n",
       "              city              benefits   contract positions     job_post_id  \\\n",
       "1469  AR RIYADH...  ['Salary', '7000.0']  دوام كامل     0 / 1  20202026399061   \n",
       "\n",
       "        exper gender  \n",
       "1469  0 Years   both  "
      ]
     },
     "execution_count": 12,
     "metadata": {},
     "output_type": "execute_result"
    }
   ],
   "source": [
    "jadarat_df[jadarat_df.duplicated()]"
   ]
  },
  {
   "cell_type": "code",
   "execution_count": 13,
   "id": "98e8d71f",
   "metadata": {},
   "outputs": [],
   "source": [
    "# go to delete duplicates columns\n",
    "jadarat_df.drop_duplicates(inplace = True)"
   ]
  },
  {
   "cell_type": "code",
   "execution_count": 14,
   "id": "8ff429c7",
   "metadata": {},
   "outputs": [
    {
     "data": {
      "text/html": [
       "<div>\n",
       "<style scoped>\n",
       "    .dataframe tbody tr th:only-of-type {\n",
       "        vertical-align: middle;\n",
       "    }\n",
       "\n",
       "    .dataframe tbody tr th {\n",
       "        vertical-align: top;\n",
       "    }\n",
       "\n",
       "    .dataframe thead th {\n",
       "        text-align: right;\n",
       "    }\n",
       "</style>\n",
       "<table border=\"1\" class=\"dataframe\">\n",
       "  <thead>\n",
       "    <tr style=\"text-align: right;\">\n",
       "      <th></th>\n",
       "      <th>job_title</th>\n",
       "      <th>job_date</th>\n",
       "      <th>job_desc</th>\n",
       "      <th>job_tasks</th>\n",
       "      <th>comp_name</th>\n",
       "      <th>comp_no</th>\n",
       "      <th>comp_type</th>\n",
       "      <th>comp_size</th>\n",
       "      <th>eco_activity</th>\n",
       "      <th>qualif</th>\n",
       "      <th>region</th>\n",
       "      <th>city</th>\n",
       "      <th>benefits</th>\n",
       "      <th>contract</th>\n",
       "      <th>positions</th>\n",
       "      <th>job_post_id</th>\n",
       "      <th>exper</th>\n",
       "      <th>gender</th>\n",
       "    </tr>\n",
       "  </thead>\n",
       "  <tbody>\n",
       "  </tbody>\n",
       "</table>\n",
       "</div>"
      ],
      "text/plain": [
       "Empty DataFrame\n",
       "Columns: [job_title, job_date, job_desc, job_tasks, comp_name, comp_no, comp_type, comp_size, eco_activity, qualif, region, city, benefits, contract, positions, job_post_id, exper, gender]\n",
       "Index: []"
      ]
     },
     "execution_count": 14,
     "metadata": {},
     "output_type": "execute_result"
    }
   ],
   "source": [
    "jadarat_df[jadarat_df.duplicated()]"
   ]
  },
  {
   "cell_type": "code",
   "execution_count": null,
   "id": "04c62559-3b48-48cf-a4e9-857e2e0ff416",
   "metadata": {},
   "outputs": [],
   "source": []
  },
  {
   "cell_type": "markdown",
   "id": "c7724ac2-4ea2-4cf4-a9e0-e64368f87b92",
   "metadata": {},
   "source": [
    "#### 6. Completeness: \n",
    "Ensure that no critical data is missing. This might mean checking for null values or required fields that are empty.\n",
    "\n",
    "We will start by checking the dataset for missing or null values. For this, we can use the isna() method which returns a dataframe of boolean values indicating if a field is null or not. To group all missing values by column, we can include the sum() method."
   ]
  },
  {
   "cell_type": "code",
   "execution_count": 15,
   "id": "48a4de54-a344-4b94-9908-9528c15c13f7",
   "metadata": {},
   "outputs": [
    {
     "data": {
      "text/plain": [
       "qualif          690\n",
       "eco_activity     89\n",
       "comp_size        14\n",
       "region            0\n",
       "exper             0\n",
       "job_post_id       0\n",
       "positions         0\n",
       "contract          0\n",
       "benefits          0\n",
       "city              0\n",
       "job_title         0\n",
       "job_date          0\n",
       "comp_type         0\n",
       "comp_no           0\n",
       "comp_name         0\n",
       "job_tasks         0\n",
       "job_desc          0\n",
       "gender            0\n",
       "dtype: int64"
      ]
     },
     "execution_count": 15,
     "metadata": {},
     "output_type": "execute_result"
    }
   ],
   "source": [
    "#Display number missing values per column\n",
    "jadarat_df.isnull().sum().sort_values(ascending = False)"
   ]
  },
  {
   "cell_type": "code",
   "execution_count": 16,
   "id": "0437c368",
   "metadata": {},
   "outputs": [
    {
     "data": {
      "text/html": [
       "<div>\n",
       "<style scoped>\n",
       "    .dataframe tbody tr th:only-of-type {\n",
       "        vertical-align: middle;\n",
       "    }\n",
       "\n",
       "    .dataframe tbody tr th {\n",
       "        vertical-align: top;\n",
       "    }\n",
       "\n",
       "    .dataframe thead th {\n",
       "        text-align: right;\n",
       "    }\n",
       "</style>\n",
       "<table border=\"1\" class=\"dataframe\">\n",
       "  <thead>\n",
       "    <tr style=\"text-align: right;\">\n",
       "      <th></th>\n",
       "      <th>job_title</th>\n",
       "      <th>job_date</th>\n",
       "      <th>job_desc</th>\n",
       "      <th>job_tasks</th>\n",
       "      <th>comp_name</th>\n",
       "      <th>comp_no</th>\n",
       "      <th>comp_type</th>\n",
       "      <th>comp_size</th>\n",
       "      <th>eco_activity</th>\n",
       "      <th>qualif</th>\n",
       "      <th>region</th>\n",
       "      <th>city</th>\n",
       "      <th>benefits</th>\n",
       "      <th>contract</th>\n",
       "      <th>positions</th>\n",
       "      <th>job_post_id</th>\n",
       "      <th>exper</th>\n",
       "      <th>gender</th>\n",
       "    </tr>\n",
       "  </thead>\n",
       "  <tbody>\n",
       "    <tr>\n",
       "      <th>878</th>\n",
       "      <td>مدير مطعم</td>\n",
       "      <td>Publish date</td>\n",
       "      <td>['تخطيط عمليات المطعم وتوجيهها وتنسيقها، وإدار...</td>\n",
       "      <td>['   إدارة عملية تخطيط وتقديم الأطعمة والمشروب...</td>\n",
       "      <td>مطعم طبيعي للوجبات السريعة</td>\n",
       "      <td>15-1974112</td>\n",
       "      <td>خاص</td>\n",
       "      <td>صغيرة فئة ب</td>\n",
       "      <td>المطاعم مع الخدمة</td>\n",
       "      <td>NaN</td>\n",
       "      <td>المنطقة الشرقية</td>\n",
       "      <td>AD DAMMAM...</td>\n",
       "      <td>['Salary', '4000.0']</td>\n",
       "      <td>دوام كامل</td>\n",
       "      <td>0 / 1</td>\n",
       "      <td>20202026390576</td>\n",
       "      <td>0 Years</td>\n",
       "      <td>M</td>\n",
       "    </tr>\n",
       "    <tr>\n",
       "      <th>879</th>\n",
       "      <td>مندوب مبيعات</td>\n",
       "      <td>Publish date</td>\n",
       "      <td>['جمع البيانات والمواصفات المتعلقة بالمنتجات (...</td>\n",
       "      <td>['   بناء قاعدة بينات للعملاء الحاليين والمرتق...</td>\n",
       "      <td>مؤسسة درجة تجمد التجارية</td>\n",
       "      <td>8-1949434</td>\n",
       "      <td>خاص</td>\n",
       "      <td>صغيرة فئة أ</td>\n",
       "      <td>البيع بالتجزئة للأجهزة الالكترونية والكهربائية...</td>\n",
       "      <td>NaN</td>\n",
       "      <td>المنطقة الشرقية</td>\n",
       "      <td>AL HUFUF...</td>\n",
       "      <td>['Salary', '4000.0']</td>\n",
       "      <td>دوام كامل</td>\n",
       "      <td>0 / 1</td>\n",
       "      <td>20202026390502</td>\n",
       "      <td>2 Years</td>\n",
       "      <td>F</td>\n",
       "    </tr>\n",
       "  </tbody>\n",
       "</table>\n",
       "</div>"
      ],
      "text/plain": [
       "        job_title      job_date  \\\n",
       "878     مدير مطعم  Publish date   \n",
       "879  مندوب مبيعات  Publish date   \n",
       "\n",
       "                                              job_desc  \\\n",
       "878  ['تخطيط عمليات المطعم وتوجيهها وتنسيقها، وإدار...   \n",
       "879  ['جمع البيانات والمواصفات المتعلقة بالمنتجات (...   \n",
       "\n",
       "                                             job_tasks  \\\n",
       "878  ['   إدارة عملية تخطيط وتقديم الأطعمة والمشروب...   \n",
       "879  ['   بناء قاعدة بينات للعملاء الحاليين والمرتق...   \n",
       "\n",
       "                      comp_name     comp_no comp_type    comp_size  \\\n",
       "878  مطعم طبيعي للوجبات السريعة  15-1974112       خاص  صغيرة فئة ب   \n",
       "879    مؤسسة درجة تجمد التجارية   8-1949434       خاص  صغيرة فئة أ   \n",
       "\n",
       "                                          eco_activity qualif  \\\n",
       "878                                  المطاعم مع الخدمة    NaN   \n",
       "879  البيع بالتجزئة للأجهزة الالكترونية والكهربائية...    NaN   \n",
       "\n",
       "              region          city              benefits   contract positions  \\\n",
       "878  المنطقة الشرقية  AD DAMMAM...  ['Salary', '4000.0']  دوام كامل     0 / 1   \n",
       "879  المنطقة الشرقية   AL HUFUF...  ['Salary', '4000.0']  دوام كامل     0 / 1   \n",
       "\n",
       "        job_post_id    exper gender  \n",
       "878  20202026390576  0 Years      M  \n",
       "879  20202026390502  2 Years      F  "
      ]
     },
     "execution_count": 16,
     "metadata": {},
     "output_type": "execute_result"
    }
   ],
   "source": [
    "jadarat_df[jadarat_df['job_date'] == 'Publish date'].head(2)"
   ]
  },
  {
   "cell_type": "code",
   "execution_count": 17,
   "id": "8daf32f3",
   "metadata": {},
   "outputs": [
    {
     "data": {
      "text/plain": [
       "(47, 18)"
      ]
     },
     "execution_count": 17,
     "metadata": {},
     "output_type": "execute_result"
    }
   ],
   "source": [
    "jadarat_df[jadarat_df['job_date'] == 'Publish date'].shape"
   ]
  },
  {
   "cell_type": "code",
   "execution_count": 18,
   "id": "abec31c4-0904-4b73-8cee-b7bc14ab1e67",
   "metadata": {},
   "outputs": [],
   "source": [
    "# go to clean them \n"
   ]
  },
  {
   "cell_type": "markdown",
   "id": "b40de63c-5a1d-49ed-a87e-c5229ee08bbe",
   "metadata": {},
   "source": [
    "#### 7. Check Accuracy:\n",
    "\n",
    "Verify that the data is correct and precise. This could involve comparing data samples with known sources or using validation rules.\n",
    "\n",
    "**The process includes:**\n",
    "1. Validating the appropriateness of data types for the dataset.\n",
    "2. Identifying outliers  using established validation  rule"
   ]
  },
  {
   "cell_type": "code",
   "execution_count": 19,
   "id": "68be5334-ae10-4abd-8097-3259fe5e72c8",
   "metadata": {},
   "outputs": [],
   "source": [
    "# check columns types "
   ]
  },
  {
   "cell_type": "code",
   "execution_count": 20,
   "id": "2ee790ba-dcc0-45f1-b6f8-0133e913e149",
   "metadata": {},
   "outputs": [],
   "source": [
    "# go to clean them "
   ]
  },
  {
   "cell_type": "code",
   "execution_count": 21,
   "id": "c69b303a-5459-45f9-a28e-fcee45c21c05",
   "metadata": {},
   "outputs": [],
   "source": [
    "# check outliers "
   ]
  },
  {
   "cell_type": "markdown",
   "id": "4aca9d42-add6-45db-92cf-1f6dae5f277b",
   "metadata": {},
   "source": [
    "**What is an Outlier?** \n",
    "Outlier is an row/observation that appears far away and diverges from an overall pattern in a sample.\n",
    "\n",
    "**What are the types of Outliers?**\n",
    "1. Univariate: These outliers can be found when we look at distribution of a single variable\n",
    "2. Multivariate: are outliers in an n-dimensional space. In order to find them, you have to look at distributions in multi-dimensions. example (hight=100, weight=100) for a person\n",
    "\n",
    "**What causes Outliers?**\n",
    "Whenever we come across outliers, the ideal way to tackle them is to find out the reason of having these outliers. The method to deal with them would then depend on the reason of their occurrence.\n",
    "\n",
    "Let’s understand various types of outliers:\n",
    "\n",
    "1. Data Entry Errors:- Human errors such as errors caused during data collection, recording, or entry can cause outliers in data.\n",
    "2. Measurement Error: It is the most common source of outliers. This is caused when the measurement instrument used turns out to be faulty.\n",
    "3. Data Processing Error: Whenever we perform data mining, we extract data from multiple sources. It is possible that some manipulation or extraction errors may lead to outliers in the dataset.\n",
    "4. Sampling error: For instance, we have to measure the height of athletes. By mistake, we include a few basketball players in the sample. This inclusion is likely to cause outliers in the dataset.\n",
    "5. Natural Outlier: When an outlier is not artificial (due to error), it is a natural outlier. For instance: In my last assignment with one of the renowned insurance company, I noticed that the performance of top 50 financial advisors was far higher than rest of the population. Surprisingly, it was not due to any error. Hence, whenever we perform any data mining activity with advisors, we used to treat this segment separately.\n",
    "\n",
    "\n",
    "**What is the impact of Outliers on a dataset?**\n",
    "\n",
    "\n",
    "![image.png](https://www.analyticsvidhya.com/wp-content/uploads/2015/02/Outlier_31.png)\n",
    "\n",
    "\n",
    "\n",
    "**How to detect Outliers?**\n",
    "\n",
    "1. Most commonly used method to detect outliers is visualization (Univariate Graphical Analysis).\n",
    "\n",
    "We use 3 common visualization methods:\n",
    ">- Box-plot: A box plot is a method for graphically depicting groups of numerical data through their quartiles. The box extends from the Q1 to Q3 quartile values of the data, with a line at the median (Q2). The whiskers extend from the edges of the box to show the range of the data. Outlier points are those past the end of the whiskers. Box plots show robust measures of location and spread as well as providing information about symmetry and outliers.\n",
    ">\n",
    ">  \n",
    ">![image.png](https://miro.medium.com/v2/resize:fit:698/format:webp/1*VK5iHA2AB28HSZwWwUbNYg.png)\n",
    ">\n",
    ">\n",
    ">- Histogram\n",
    ">- Scatter Plot: A scatter plot is a mathematical diagram using Cartesian coordinates to display values for two variables for a set of data. The data are displayed as a collection of points, each having the value of one variable determining the position on the horizontal axis and the value of the other variable determining the position on the vertical axis. The points that are far from the population can be termed as an outlier.\n",
    ">\n",
    ">  \n",
    ">![image.png](https://miro.medium.com/v2/resize:fit:4800/format:webp/1*Ov6aH-8yIwNoUxtMFwgx4g.png)\n",
    ">\n",
    ">\n",
    "\n",
    "2. Using statistical method (Univariate Non-Graphical analysis):\n",
    ">- Any value, which is beyond the range of -1.5 x IQR to 1.5 x IQR\n",
    " \n",
    "![image.png](https://www.whatissixsigma.net/wp-content/uploads/2015/07/Box-Plot-Diagram-to-identify-Outliers-figure-1.png)\n",
    "\n",
    ">- Use capping methods. Any value which out of range of 5th and 95th percentile can be considered as outlier\n",
    ">- Data points, three or more standard deviation away from mean are considered outlier: The Z-score is the signed number of standard deviations by which the value of an observation or data point is above the mean value of what is being observed or measured. While calculating the Z-score we re-scale and center the data and look for data points that are too far from zero. These data points which are way too far from zero will be treated as the outliers. In most of the cases, a threshold of 3 or -3 is used i.e if the Z-score value is greater than or less than 3 or -3 respectively, that data point will be identified as outliers.\n",
    "> - Outlier detection is merely a special case of the examination of data for influential data points and it also depends on the business understanding\n"
   ]
  },
  {
   "cell_type": "code",
   "execution_count": 22,
   "id": "74ea6194-cc01-45d8-be38-c4543eb1714e",
   "metadata": {},
   "outputs": [],
   "source": [
    "# go to univariate graphical analysis\n",
    "# go to lesson : data visualization 1 - chart type section\n",
    "# then go to univariate graphical analysis\n",
    "# detect outliers using graphs varbaly"
   ]
  },
  {
   "cell_type": "code",
   "execution_count": 23,
   "id": "48ecf77b-480c-4f64-9485-95be805bc357",
   "metadata": {},
   "outputs": [],
   "source": [
    "# go to lesson: statistics 1 then statistics 3\n",
    "# then go to univariate Non graphical analysis\n",
    "# detect outliers using numerical statistics "
   ]
  },
  {
   "cell_type": "code",
   "execution_count": null,
   "id": "ee200da8-62b0-492d-b118-f4d665a1fb16",
   "metadata": {},
   "outputs": [],
   "source": []
  },
  {
   "cell_type": "code",
   "execution_count": 24,
   "id": "4e66d611-6958-4860-8522-9ada7fce40b0",
   "metadata": {},
   "outputs": [],
   "source": [
    "# go to delete ouliers"
   ]
  },
  {
   "attachments": {},
   "cell_type": "markdown",
   "id": "4e886ec7-388c-414b-ada7-803c2fb1f2cb",
   "metadata": {},
   "source": [
    "## 2. Data Cleaning: \n",
    "\n",
    "Preliminary findings from data profiling can lead to cleaning the data by:\n",
    "- Handling missing values\n",
    "- Correcting errors.\n",
    "- Dealing with outliers.\n",
    "\n",
    "-------------------\n",
    "\n"
   ]
  },
  {
   "cell_type": "markdown",
   "id": "21876b48-f5ec-4970-85a9-0520d45d8841",
   "metadata": {},
   "source": [
    "### Handling missing values:"
   ]
  },
  {
   "cell_type": "markdown",
   "id": "c890d5a2-2a65-4090-9427-f89c0f011d3f",
   "metadata": {},
   "source": [
    "**Why my data has missing values?**\n",
    "They may occur at two stages:\n",
    "1. Data Extraction: It is possible that there are problems with extraction process. Errors at data extraction stage are typically easy to find and can be corrected easily as well.\n",
    "2. Data collection: These errors occur at time of data collection and are harder to correct.\n",
    "\n",
    "**Why do we need to handle the missing data?**\n",
    "To avoid:\n",
    "- Bias the conclusions.\n",
    "- Leading the business to make wrong decisions.\n",
    "\n",
    "**Which are the methods to treat missing values ?**\n",
    "1. Deletion: we delete rows where any of the variable is missing. Simplicity is one of the major advantage of this method, but this method reduces the power of model because it reduces the sample size.\n",
    "\n",
    "2. Imputation: is a method to fill in the missing values with estimated ones. This imputation is one of the most frequently used methods.\n",
    "\n",
    "    2.1. Mean/ Mode/ Median Imputation: It consists of replacing the missing data for a given attribute by the mean or median (quantitative attribute) or mode (qualitative attribute) of all known values of that variable.\n",
    "    > It can be of two types:\n",
    "    > - Generalized Imputation: In this case, we calculate the mean or median for all non missing values of that variable then replace missing value with mean or median.\n",
    "    > - Similar case Imputation: In this case, we calculate average for each group individually of non missing values then replace the missing value based on the group.\n",
    "\n",
    "    2.2. Constant Value\n",
    "   \n",
    "    2.3. Forward Filling\n",
    "   \n",
    "    2.4. Backward Filling\n",
    "\n",
    "6. Prediction Model:  Prediction model is one of the sophisticated method for handling missing data. Here, we create a predictive model to estimate values that will substitute the missing data.  In this case, we divide our data set into two sets: One set with no missing values for the variable and another one with missing values. First data set become training data set of the model while second data set with missing values is test data set and variable with missing values is treated as target variable. Next, we create a model to predict target variable based on other attributes of the training data set and populate missing values of test data set.\n",
    "\n",
    "> There are 2 drawbacks for this approach:\n",
    "> - The model estimated values are usually more well-behaved than the true values\n",
    "> - If there are no relationships with attributes in the data set and the attribute with missing values, then the model will not be precise for estimating missing values.\n",
    "\n",
    "9. KNN Imputation: In this method of imputation, the missing values of an attribute are imputed using the given number of attributes that are most similar to the attribute whose values are missing. The similarity of two attributes is determined using a distance function. It is also known to have certain advantage & disadvantages.\n",
    "\n",
    "   > **Advantages:**\n",
    "   > - k-nearest neighbour can predict both qualitative & quantitative attributes\n",
    "   > - Creation of predictive model for each attribute with missing data is not required\n",
    "   > - Attributes with multiple missing values can be easily treated\n",
    "   > - Correlation structure of the data is taken into consideration\n",
    "\n",
    "   > **Disadvantage:**\n",
    "   > - KNN algorithm is very time-consuming in analyzing large database. It searches through all the dataset looking for the most similar instances.\n",
    "   > - Choice of k-value is very critical. Higher value of k would include attributes which are significantly different from what we need whereas lower value of k implies missing out of significant attributes.\n",
    "\n",
    "--------------------\n"
   ]
  },
  {
   "cell_type": "code",
   "execution_count": 25,
   "id": "57e741fb-71c1-46ad-a526-d8f0b1564dc3",
   "metadata": {},
   "outputs": [
    {
     "data": {
      "text/plain": [
       "qualif          690\n",
       "eco_activity     89\n",
       "comp_size        14\n",
       "region            0\n",
       "exper             0\n",
       "job_post_id       0\n",
       "positions         0\n",
       "contract          0\n",
       "benefits          0\n",
       "city              0\n",
       "job_title         0\n",
       "job_date          0\n",
       "comp_type         0\n",
       "comp_no           0\n",
       "comp_name         0\n",
       "job_tasks         0\n",
       "job_desc          0\n",
       "gender            0\n",
       "dtype: int64"
      ]
     },
     "execution_count": 25,
     "metadata": {},
     "output_type": "execute_result"
    }
   ],
   "source": [
    "jadarat_df.isnull().sum().sort_values(ascending = False)"
   ]
  },
  {
   "cell_type": "code",
   "execution_count": 26,
   "id": "be1cfc08",
   "metadata": {},
   "outputs": [
    {
     "data": {
      "text/plain": [
       "job_title       object\n",
       "job_date        object\n",
       "job_desc        object\n",
       "job_tasks       object\n",
       "comp_name       object\n",
       "comp_no         object\n",
       "comp_type       object\n",
       "comp_size       object\n",
       "eco_activity    object\n",
       "qualif          object\n",
       "region          object\n",
       "city            object\n",
       "benefits        object\n",
       "contract        object\n",
       "positions       object\n",
       "job_post_id      int64\n",
       "exper           object\n",
       "gender          object\n",
       "dtype: object"
      ]
     },
     "execution_count": 26,
     "metadata": {},
     "output_type": "execute_result"
    }
   ],
   "source": [
    "jadarat_df.dtypes"
   ]
  },
  {
   "cell_type": "markdown",
   "id": "9f11895b",
   "metadata": {},
   "source": [
    "*********************************************\n",
    "Fill the nulls of qualif, eco_activity and com_size with Unknown! value \n",
    "*********************************************"
   ]
  },
  {
   "cell_type": "code",
   "execution_count": 27,
   "id": "507cbf2a",
   "metadata": {},
   "outputs": [
    {
     "data": {
      "text/html": [
       "<div>\n",
       "<style scoped>\n",
       "    .dataframe tbody tr th:only-of-type {\n",
       "        vertical-align: middle;\n",
       "    }\n",
       "\n",
       "    .dataframe tbody tr th {\n",
       "        vertical-align: top;\n",
       "    }\n",
       "\n",
       "    .dataframe thead th {\n",
       "        text-align: right;\n",
       "    }\n",
       "</style>\n",
       "<table border=\"1\" class=\"dataframe\">\n",
       "  <thead>\n",
       "    <tr style=\"text-align: right;\">\n",
       "      <th></th>\n",
       "      <th>job_title</th>\n",
       "      <th>job_date</th>\n",
       "      <th>job_desc</th>\n",
       "      <th>job_tasks</th>\n",
       "      <th>comp_name</th>\n",
       "      <th>comp_no</th>\n",
       "      <th>comp_type</th>\n",
       "      <th>comp_size</th>\n",
       "      <th>eco_activity</th>\n",
       "      <th>qualif</th>\n",
       "      <th>region</th>\n",
       "      <th>city</th>\n",
       "      <th>benefits</th>\n",
       "      <th>contract</th>\n",
       "      <th>positions</th>\n",
       "      <th>job_post_id</th>\n",
       "      <th>exper</th>\n",
       "      <th>gender</th>\n",
       "    </tr>\n",
       "  </thead>\n",
       "  <tbody>\n",
       "    <tr>\n",
       "      <th>1</th>\n",
       "      <td>بائع</td>\n",
       "      <td>27/05/1444</td>\n",
       "      <td>['بيع مجموعة من السلع والخدمات للعملاء، وتوفير...</td>\n",
       "      <td>['   بيع مجموعة من السلع والخدمات للعملاء.', '...</td>\n",
       "      <td>شركة عالم الكهرباء للمقاولات</td>\n",
       "      <td>4-1324428</td>\n",
       "      <td>خاص</td>\n",
       "      <td>متوسطة فئة ب</td>\n",
       "      <td>تركيب انظمة التبريد وتكييف الهواء وصيانتها واص...</td>\n",
       "      <td>NaN</td>\n",
       "      <td>المنطقة الشرقية</td>\n",
       "      <td>AD DAMMAM...</td>\n",
       "      <td>['Salary', '5000.0']</td>\n",
       "      <td>دوام كامل</td>\n",
       "      <td>0 / 3</td>\n",
       "      <td>20202026350389</td>\n",
       "      <td>0 Years</td>\n",
       "      <td>both</td>\n",
       "    </tr>\n",
       "    <tr>\n",
       "      <th>14</th>\n",
       "      <td>مصمم جرافيك</td>\n",
       "      <td>26/05/1444</td>\n",
       "      <td>['لديه الخبرة   في اخراج العروض التقديمية الرس...</td>\n",
       "      <td>['لديه الخبرة   في اخراج العروض التقديمية الرس...</td>\n",
       "      <td>مكتب مدارات للاستشارات الهندسية</td>\n",
       "      <td>3-1971776</td>\n",
       "      <td>خاص</td>\n",
       "      <td>متوسطة فئة ب</td>\n",
       "      <td>إدارة المشاريع الانشائية</td>\n",
       "      <td>NaN</td>\n",
       "      <td>حائل</td>\n",
       "      <td>HAIL...</td>\n",
       "      <td>['Salary', '7000.0']</td>\n",
       "      <td>دوام كامل</td>\n",
       "      <td>0 / 1</td>\n",
       "      <td>20202026349504</td>\n",
       "      <td>4 Years</td>\n",
       "      <td>M</td>\n",
       "    </tr>\n",
       "  </tbody>\n",
       "</table>\n",
       "</div>"
      ],
      "text/plain": [
       "      job_title    job_date  \\\n",
       "1          بائع  27/05/1444   \n",
       "14  مصمم جرافيك  26/05/1444   \n",
       "\n",
       "                                             job_desc  \\\n",
       "1   ['بيع مجموعة من السلع والخدمات للعملاء، وتوفير...   \n",
       "14  ['لديه الخبرة   في اخراج العروض التقديمية الرس...   \n",
       "\n",
       "                                            job_tasks  \\\n",
       "1   ['   بيع مجموعة من السلع والخدمات للعملاء.', '...   \n",
       "14  ['لديه الخبرة   في اخراج العروض التقديمية الرس...   \n",
       "\n",
       "                          comp_name    comp_no comp_type     comp_size  \\\n",
       "1      شركة عالم الكهرباء للمقاولات  4-1324428       خاص  متوسطة فئة ب   \n",
       "14  مكتب مدارات للاستشارات الهندسية  3-1971776       خاص  متوسطة فئة ب   \n",
       "\n",
       "                                         eco_activity qualif           region  \\\n",
       "1   تركيب انظمة التبريد وتكييف الهواء وصيانتها واص...    NaN  المنطقة الشرقية   \n",
       "14                           إدارة المشاريع الانشائية    NaN             حائل   \n",
       "\n",
       "            city              benefits   contract positions     job_post_id  \\\n",
       "1   AD DAMMAM...  ['Salary', '5000.0']  دوام كامل     0 / 3  20202026350389   \n",
       "14       HAIL...  ['Salary', '7000.0']  دوام كامل     0 / 1  20202026349504   \n",
       "\n",
       "      exper gender  \n",
       "1   0 Years   both  \n",
       "14  4 Years      M  "
      ]
     },
     "execution_count": 27,
     "metadata": {},
     "output_type": "execute_result"
    }
   ],
   "source": [
    "jadarat_df[jadarat_df['qualif'].isnull()].head(2)"
   ]
  },
  {
   "cell_type": "code",
   "execution_count": 28,
   "id": "530cacbb",
   "metadata": {},
   "outputs": [
    {
     "data": {
      "text/html": [
       "<div>\n",
       "<style scoped>\n",
       "    .dataframe tbody tr th:only-of-type {\n",
       "        vertical-align: middle;\n",
       "    }\n",
       "\n",
       "    .dataframe tbody tr th {\n",
       "        vertical-align: top;\n",
       "    }\n",
       "\n",
       "    .dataframe thead th {\n",
       "        text-align: right;\n",
       "    }\n",
       "</style>\n",
       "<table border=\"1\" class=\"dataframe\">\n",
       "  <thead>\n",
       "    <tr style=\"text-align: right;\">\n",
       "      <th></th>\n",
       "      <th>job_title</th>\n",
       "      <th>job_date</th>\n",
       "      <th>job_desc</th>\n",
       "      <th>job_tasks</th>\n",
       "      <th>comp_name</th>\n",
       "      <th>comp_no</th>\n",
       "      <th>comp_type</th>\n",
       "      <th>comp_size</th>\n",
       "      <th>eco_activity</th>\n",
       "      <th>qualif</th>\n",
       "      <th>region</th>\n",
       "      <th>city</th>\n",
       "      <th>benefits</th>\n",
       "      <th>contract</th>\n",
       "      <th>positions</th>\n",
       "      <th>job_post_id</th>\n",
       "      <th>exper</th>\n",
       "      <th>gender</th>\n",
       "    </tr>\n",
       "  </thead>\n",
       "  <tbody>\n",
       "    <tr>\n",
       "      <th>3</th>\n",
       "      <td>ميكانيكي سيارات</td>\n",
       "      <td>27/05/1444</td>\n",
       "      <td>['تشخيص أعطال السيارات وإصلاحها وتنفيذ برامج ا...</td>\n",
       "      <td>['   فحص أداء المعدّات الكهربائية والميكانيكية...</td>\n",
       "      <td>مؤسسة لمكو لغيار الزيوت</td>\n",
       "      <td>8-1925495</td>\n",
       "      <td>خاص</td>\n",
       "      <td>صغيرة فئة ب</td>\n",
       "      <td>NaN</td>\n",
       "      <td>['Skill data', 'صيانة السيارات وتقييم الاعطال'...</td>\n",
       "      <td>المنطقة الشرقية</td>\n",
       "      <td>AL HUFUF...</td>\n",
       "      <td>['Salary', '5000.0']</td>\n",
       "      <td>دوام كامل</td>\n",
       "      <td>0 / 10</td>\n",
       "      <td>20202026350219</td>\n",
       "      <td>0 Years</td>\n",
       "      <td>M</td>\n",
       "    </tr>\n",
       "    <tr>\n",
       "      <th>25</th>\n",
       "      <td>مدير عام</td>\n",
       "      <td>26/05/1444</td>\n",
       "      <td>['المشاركة في وضع الأهداف العامة والسياسات وال...</td>\n",
       "      <td>['   المشاركة في وضع الأهداف والسياسات والمباد...</td>\n",
       "      <td>ورشة اضواء المشاعل للحدادة والالمنيوم</td>\n",
       "      <td>10-2010602</td>\n",
       "      <td>خاص</td>\n",
       "      <td>صغيرة فئة أ</td>\n",
       "      <td>NaN</td>\n",
       "      <td>['Skill data', 'حداد', 'متوسط', 'Language data...</td>\n",
       "      <td>المدينة المنورة</td>\n",
       "      <td>AL MADINA...</td>\n",
       "      <td>['Salary', '4000.0']</td>\n",
       "      <td>دوام كامل</td>\n",
       "      <td>0 / 1</td>\n",
       "      <td>20202026348601</td>\n",
       "      <td>0 Years</td>\n",
       "      <td>M</td>\n",
       "    </tr>\n",
       "  </tbody>\n",
       "</table>\n",
       "</div>"
      ],
      "text/plain": [
       "          job_title    job_date  \\\n",
       "3   ميكانيكي سيارات  27/05/1444   \n",
       "25         مدير عام  26/05/1444   \n",
       "\n",
       "                                             job_desc  \\\n",
       "3   ['تشخيص أعطال السيارات وإصلاحها وتنفيذ برامج ا...   \n",
       "25  ['المشاركة في وضع الأهداف العامة والسياسات وال...   \n",
       "\n",
       "                                            job_tasks  \\\n",
       "3   ['   فحص أداء المعدّات الكهربائية والميكانيكية...   \n",
       "25  ['   المشاركة في وضع الأهداف والسياسات والمباد...   \n",
       "\n",
       "                                comp_name     comp_no comp_type    comp_size  \\\n",
       "3                 مؤسسة لمكو لغيار الزيوت   8-1925495       خاص  صغيرة فئة ب   \n",
       "25  ورشة اضواء المشاعل للحدادة والالمنيوم  10-2010602       خاص  صغيرة فئة أ   \n",
       "\n",
       "   eco_activity                                             qualif  \\\n",
       "3           NaN  ['Skill data', 'صيانة السيارات وتقييم الاعطال'...   \n",
       "25          NaN  ['Skill data', 'حداد', 'متوسط', 'Language data...   \n",
       "\n",
       "             region          city              benefits   contract positions  \\\n",
       "3   المنطقة الشرقية   AL HUFUF...  ['Salary', '5000.0']  دوام كامل    0 / 10   \n",
       "25  المدينة المنورة  AL MADINA...  ['Salary', '4000.0']  دوام كامل     0 / 1   \n",
       "\n",
       "       job_post_id    exper gender  \n",
       "3   20202026350219  0 Years      M  \n",
       "25  20202026348601  0 Years      M  "
      ]
     },
     "execution_count": 28,
     "metadata": {},
     "output_type": "execute_result"
    }
   ],
   "source": [
    "jadarat_df[jadarat_df['eco_activity'].isnull()].head(2)"
   ]
  },
  {
   "cell_type": "code",
   "execution_count": 29,
   "id": "8c69626e",
   "metadata": {},
   "outputs": [
    {
     "data": {
      "text/html": [
       "<div>\n",
       "<style scoped>\n",
       "    .dataframe tbody tr th:only-of-type {\n",
       "        vertical-align: middle;\n",
       "    }\n",
       "\n",
       "    .dataframe tbody tr th {\n",
       "        vertical-align: top;\n",
       "    }\n",
       "\n",
       "    .dataframe thead th {\n",
       "        text-align: right;\n",
       "    }\n",
       "</style>\n",
       "<table border=\"1\" class=\"dataframe\">\n",
       "  <thead>\n",
       "    <tr style=\"text-align: right;\">\n",
       "      <th></th>\n",
       "      <th>job_title</th>\n",
       "      <th>job_date</th>\n",
       "      <th>job_desc</th>\n",
       "      <th>job_tasks</th>\n",
       "      <th>comp_name</th>\n",
       "      <th>comp_no</th>\n",
       "      <th>comp_type</th>\n",
       "      <th>comp_size</th>\n",
       "      <th>eco_activity</th>\n",
       "      <th>qualif</th>\n",
       "      <th>region</th>\n",
       "      <th>city</th>\n",
       "      <th>benefits</th>\n",
       "      <th>contract</th>\n",
       "      <th>positions</th>\n",
       "      <th>job_post_id</th>\n",
       "      <th>exper</th>\n",
       "      <th>gender</th>\n",
       "    </tr>\n",
       "  </thead>\n",
       "  <tbody>\n",
       "    <tr>\n",
       "      <th>1296</th>\n",
       "      <td>مدير إداري</td>\n",
       "      <td>25/06/1444</td>\n",
       "      <td>['المشاركة في تطوير الأهداف الرئيسية للشؤون ال...</td>\n",
       "      <td>['   المشاركة في تطوير الأهداف الرئيسية للشؤون...</td>\n",
       "      <td>مكتب تصميم المشاريع للاستشارات الهندسية</td>\n",
       "      <td>4-1990473</td>\n",
       "      <td>خاص</td>\n",
       "      <td>NaN</td>\n",
       "      <td>NaN</td>\n",
       "      <td>NaN</td>\n",
       "      <td>المنطقة الشرقية</td>\n",
       "      <td>AD DAMMAM...</td>\n",
       "      <td>['Salary', '12400.0']</td>\n",
       "      <td>دوام كامل</td>\n",
       "      <td>0 / 1</td>\n",
       "      <td>20202026404052</td>\n",
       "      <td>7 Years</td>\n",
       "      <td>M</td>\n",
       "    </tr>\n",
       "    <tr>\n",
       "      <th>1393</th>\n",
       "      <td>موظف صندوق محاسبة</td>\n",
       "      <td>01/07/1444</td>\n",
       "      <td>['عد المبالغ المالية المتوافرة في آلة تسجيل ال...</td>\n",
       "      <td>['   عدّ المبالغ المالية وتسجيلها في آلة تسجيل...</td>\n",
       "      <td>مغاسل نسيم الفل للملابس</td>\n",
       "      <td>15-1963098</td>\n",
       "      <td>خاص</td>\n",
       "      <td>NaN</td>\n",
       "      <td>NaN</td>\n",
       "      <td>NaN</td>\n",
       "      <td>المنطقة الشرقية</td>\n",
       "      <td>AL KHUBAR...</td>\n",
       "      <td>['Salary', '4000.0']</td>\n",
       "      <td>دوام كامل</td>\n",
       "      <td>0 / 3</td>\n",
       "      <td>20202026407308</td>\n",
       "      <td>0 Years</td>\n",
       "      <td>both</td>\n",
       "    </tr>\n",
       "  </tbody>\n",
       "</table>\n",
       "</div>"
      ],
      "text/plain": [
       "              job_title    job_date  \\\n",
       "1296         مدير إداري  25/06/1444   \n",
       "1393  موظف صندوق محاسبة  01/07/1444   \n",
       "\n",
       "                                               job_desc  \\\n",
       "1296  ['المشاركة في تطوير الأهداف الرئيسية للشؤون ال...   \n",
       "1393  ['عد المبالغ المالية المتوافرة في آلة تسجيل ال...   \n",
       "\n",
       "                                              job_tasks  \\\n",
       "1296  ['   المشاركة في تطوير الأهداف الرئيسية للشؤون...   \n",
       "1393  ['   عدّ المبالغ المالية وتسجيلها في آلة تسجيل...   \n",
       "\n",
       "                                    comp_name     comp_no comp_type comp_size  \\\n",
       "1296  مكتب تصميم المشاريع للاستشارات الهندسية   4-1990473       خاص       NaN   \n",
       "1393                  مغاسل نسيم الفل للملابس  15-1963098       خاص       NaN   \n",
       "\n",
       "     eco_activity qualif           region          city  \\\n",
       "1296          NaN    NaN  المنطقة الشرقية  AD DAMMAM...   \n",
       "1393          NaN    NaN  المنطقة الشرقية  AL KHUBAR...   \n",
       "\n",
       "                   benefits   contract positions     job_post_id    exper  \\\n",
       "1296  ['Salary', '12400.0']  دوام كامل     0 / 1  20202026404052  7 Years   \n",
       "1393   ['Salary', '4000.0']  دوام كامل     0 / 3  20202026407308  0 Years   \n",
       "\n",
       "     gender  \n",
       "1296      M  \n",
       "1393   both  "
      ]
     },
     "execution_count": 29,
     "metadata": {},
     "output_type": "execute_result"
    }
   ],
   "source": [
    "jadarat_df[jadarat_df['comp_size'].isnull()].head(2)"
   ]
  },
  {
   "cell_type": "code",
   "execution_count": 30,
   "id": "669cae23",
   "metadata": {},
   "outputs": [],
   "source": [
    "#Since we don't know what are the qualifications of the job we replace the null values with Unknown string"
   ]
  },
  {
   "cell_type": "code",
   "execution_count": 31,
   "id": "6d86de17",
   "metadata": {},
   "outputs": [
    {
     "name": "stderr",
     "output_type": "stream",
     "text": [
      "C:\\Users\\Sulaiman\\AppData\\Local\\Temp\\ipykernel_31236\\2606760029.py:1: FutureWarning:\n",
      "\n",
      "A value is trying to be set on a copy of a DataFrame or Series through chained assignment using an inplace method.\n",
      "The behavior will change in pandas 3.0. This inplace method will never work because the intermediate object on which we are setting values always behaves as a copy.\n",
      "\n",
      "For example, when doing 'df[col].method(value, inplace=True)', try using 'df.method({col: value}, inplace=True)' or df[col] = df[col].method(value) instead, to perform the operation inplace on the original object.\n",
      "\n",
      "\n",
      "\n"
     ]
    }
   ],
   "source": [
    "jadarat_df['qualif'].fillna('Unknown!', inplace=True)"
   ]
  },
  {
   "cell_type": "code",
   "execution_count": 32,
   "id": "1b4da697",
   "metadata": {},
   "outputs": [
    {
     "data": {
      "text/html": [
       "<div>\n",
       "<style scoped>\n",
       "    .dataframe tbody tr th:only-of-type {\n",
       "        vertical-align: middle;\n",
       "    }\n",
       "\n",
       "    .dataframe tbody tr th {\n",
       "        vertical-align: top;\n",
       "    }\n",
       "\n",
       "    .dataframe thead th {\n",
       "        text-align: right;\n",
       "    }\n",
       "</style>\n",
       "<table border=\"1\" class=\"dataframe\">\n",
       "  <thead>\n",
       "    <tr style=\"text-align: right;\">\n",
       "      <th></th>\n",
       "      <th>job_title</th>\n",
       "      <th>job_date</th>\n",
       "      <th>job_desc</th>\n",
       "      <th>job_tasks</th>\n",
       "      <th>comp_name</th>\n",
       "      <th>comp_no</th>\n",
       "      <th>comp_type</th>\n",
       "      <th>comp_size</th>\n",
       "      <th>eco_activity</th>\n",
       "      <th>qualif</th>\n",
       "      <th>region</th>\n",
       "      <th>city</th>\n",
       "      <th>benefits</th>\n",
       "      <th>contract</th>\n",
       "      <th>positions</th>\n",
       "      <th>job_post_id</th>\n",
       "      <th>exper</th>\n",
       "      <th>gender</th>\n",
       "    </tr>\n",
       "  </thead>\n",
       "  <tbody>\n",
       "  </tbody>\n",
       "</table>\n",
       "</div>"
      ],
      "text/plain": [
       "Empty DataFrame\n",
       "Columns: [job_title, job_date, job_desc, job_tasks, comp_name, comp_no, comp_type, comp_size, eco_activity, qualif, region, city, benefits, contract, positions, job_post_id, exper, gender]\n",
       "Index: []"
      ]
     },
     "execution_count": 32,
     "metadata": {},
     "output_type": "execute_result"
    }
   ],
   "source": [
    "jadarat_df[jadarat_df['qualif'].isnull()].head(2)"
   ]
  },
  {
   "cell_type": "code",
   "execution_count": 33,
   "id": "bf60dfbc",
   "metadata": {},
   "outputs": [
    {
     "data": {
      "text/html": [
       "<div>\n",
       "<style scoped>\n",
       "    .dataframe tbody tr th:only-of-type {\n",
       "        vertical-align: middle;\n",
       "    }\n",
       "\n",
       "    .dataframe tbody tr th {\n",
       "        vertical-align: top;\n",
       "    }\n",
       "\n",
       "    .dataframe thead th {\n",
       "        text-align: right;\n",
       "    }\n",
       "</style>\n",
       "<table border=\"1\" class=\"dataframe\">\n",
       "  <thead>\n",
       "    <tr style=\"text-align: right;\">\n",
       "      <th></th>\n",
       "      <th>job_title</th>\n",
       "      <th>job_date</th>\n",
       "      <th>job_desc</th>\n",
       "      <th>job_tasks</th>\n",
       "      <th>comp_name</th>\n",
       "      <th>comp_no</th>\n",
       "      <th>comp_type</th>\n",
       "      <th>comp_size</th>\n",
       "      <th>eco_activity</th>\n",
       "      <th>qualif</th>\n",
       "      <th>region</th>\n",
       "      <th>city</th>\n",
       "      <th>benefits</th>\n",
       "      <th>contract</th>\n",
       "      <th>positions</th>\n",
       "      <th>job_post_id</th>\n",
       "      <th>exper</th>\n",
       "      <th>gender</th>\n",
       "    </tr>\n",
       "  </thead>\n",
       "  <tbody>\n",
       "    <tr>\n",
       "      <th>1</th>\n",
       "      <td>بائع</td>\n",
       "      <td>27/05/1444</td>\n",
       "      <td>['بيع مجموعة من السلع والخدمات للعملاء، وتوفير...</td>\n",
       "      <td>['   بيع مجموعة من السلع والخدمات للعملاء.', '...</td>\n",
       "      <td>شركة عالم الكهرباء للمقاولات</td>\n",
       "      <td>4-1324428</td>\n",
       "      <td>خاص</td>\n",
       "      <td>متوسطة فئة ب</td>\n",
       "      <td>تركيب انظمة التبريد وتكييف الهواء وصيانتها واص...</td>\n",
       "      <td>Unknown!</td>\n",
       "      <td>المنطقة الشرقية</td>\n",
       "      <td>AD DAMMAM...</td>\n",
       "      <td>['Salary', '5000.0']</td>\n",
       "      <td>دوام كامل</td>\n",
       "      <td>0 / 3</td>\n",
       "      <td>20202026350389</td>\n",
       "      <td>0 Years</td>\n",
       "      <td>both</td>\n",
       "    </tr>\n",
       "    <tr>\n",
       "      <th>14</th>\n",
       "      <td>مصمم جرافيك</td>\n",
       "      <td>26/05/1444</td>\n",
       "      <td>['لديه الخبرة   في اخراج العروض التقديمية الرس...</td>\n",
       "      <td>['لديه الخبرة   في اخراج العروض التقديمية الرس...</td>\n",
       "      <td>مكتب مدارات للاستشارات الهندسية</td>\n",
       "      <td>3-1971776</td>\n",
       "      <td>خاص</td>\n",
       "      <td>متوسطة فئة ب</td>\n",
       "      <td>إدارة المشاريع الانشائية</td>\n",
       "      <td>Unknown!</td>\n",
       "      <td>حائل</td>\n",
       "      <td>HAIL...</td>\n",
       "      <td>['Salary', '7000.0']</td>\n",
       "      <td>دوام كامل</td>\n",
       "      <td>0 / 1</td>\n",
       "      <td>20202026349504</td>\n",
       "      <td>4 Years</td>\n",
       "      <td>M</td>\n",
       "    </tr>\n",
       "  </tbody>\n",
       "</table>\n",
       "</div>"
      ],
      "text/plain": [
       "      job_title    job_date  \\\n",
       "1          بائع  27/05/1444   \n",
       "14  مصمم جرافيك  26/05/1444   \n",
       "\n",
       "                                             job_desc  \\\n",
       "1   ['بيع مجموعة من السلع والخدمات للعملاء، وتوفير...   \n",
       "14  ['لديه الخبرة   في اخراج العروض التقديمية الرس...   \n",
       "\n",
       "                                            job_tasks  \\\n",
       "1   ['   بيع مجموعة من السلع والخدمات للعملاء.', '...   \n",
       "14  ['لديه الخبرة   في اخراج العروض التقديمية الرس...   \n",
       "\n",
       "                          comp_name    comp_no comp_type     comp_size  \\\n",
       "1      شركة عالم الكهرباء للمقاولات  4-1324428       خاص  متوسطة فئة ب   \n",
       "14  مكتب مدارات للاستشارات الهندسية  3-1971776       خاص  متوسطة فئة ب   \n",
       "\n",
       "                                         eco_activity    qualif  \\\n",
       "1   تركيب انظمة التبريد وتكييف الهواء وصيانتها واص...  Unknown!   \n",
       "14                           إدارة المشاريع الانشائية  Unknown!   \n",
       "\n",
       "             region          city              benefits   contract positions  \\\n",
       "1   المنطقة الشرقية  AD DAMMAM...  ['Salary', '5000.0']  دوام كامل     0 / 3   \n",
       "14             حائل       HAIL...  ['Salary', '7000.0']  دوام كامل     0 / 1   \n",
       "\n",
       "       job_post_id    exper gender  \n",
       "1   20202026350389  0 Years   both  \n",
       "14  20202026349504  4 Years      M  "
      ]
     },
     "execution_count": 33,
     "metadata": {},
     "output_type": "execute_result"
    }
   ],
   "source": [
    "jadarat_df[jadarat_df['qualif'] == 'Unknown!'].head(2)"
   ]
  },
  {
   "cell_type": "code",
   "execution_count": 34,
   "id": "37c1f4b3",
   "metadata": {},
   "outputs": [
    {
     "name": "stderr",
     "output_type": "stream",
     "text": [
      "C:\\Users\\Sulaiman\\AppData\\Local\\Temp\\ipykernel_31236\\698148370.py:2: FutureWarning:\n",
      "\n",
      "A value is trying to be set on a copy of a DataFrame or Series through chained assignment using an inplace method.\n",
      "The behavior will change in pandas 3.0. This inplace method will never work because the intermediate object on which we are setting values always behaves as a copy.\n",
      "\n",
      "For example, when doing 'df[col].method(value, inplace=True)', try using 'df.method({col: value}, inplace=True)' or df[col] = df[col].method(value) instead, to perform the operation inplace on the original object.\n",
      "\n",
      "\n",
      "\n",
      "C:\\Users\\Sulaiman\\AppData\\Local\\Temp\\ipykernel_31236\\698148370.py:3: FutureWarning:\n",
      "\n",
      "A value is trying to be set on a copy of a DataFrame or Series through chained assignment using an inplace method.\n",
      "The behavior will change in pandas 3.0. This inplace method will never work because the intermediate object on which we are setting values always behaves as a copy.\n",
      "\n",
      "For example, when doing 'df[col].method(value, inplace=True)', try using 'df.method({col: value}, inplace=True)' or df[col] = df[col].method(value) instead, to perform the operation inplace on the original object.\n",
      "\n",
      "\n",
      "\n"
     ]
    }
   ],
   "source": [
    "#the Same thing we will do for eco_activity and comp_size\n",
    "jadarat_df['eco_activity'].fillna('Unknown!', inplace=True)\n",
    "jadarat_df['comp_size'].fillna('Unknown!', inplace=True)"
   ]
  },
  {
   "cell_type": "code",
   "execution_count": 35,
   "id": "224806ed",
   "metadata": {},
   "outputs": [
    {
     "data": {
      "text/html": [
       "<div>\n",
       "<style scoped>\n",
       "    .dataframe tbody tr th:only-of-type {\n",
       "        vertical-align: middle;\n",
       "    }\n",
       "\n",
       "    .dataframe tbody tr th {\n",
       "        vertical-align: top;\n",
       "    }\n",
       "\n",
       "    .dataframe thead th {\n",
       "        text-align: right;\n",
       "    }\n",
       "</style>\n",
       "<table border=\"1\" class=\"dataframe\">\n",
       "  <thead>\n",
       "    <tr style=\"text-align: right;\">\n",
       "      <th></th>\n",
       "      <th>job_title</th>\n",
       "      <th>job_date</th>\n",
       "      <th>job_desc</th>\n",
       "      <th>job_tasks</th>\n",
       "      <th>comp_name</th>\n",
       "      <th>comp_no</th>\n",
       "      <th>comp_type</th>\n",
       "      <th>comp_size</th>\n",
       "      <th>eco_activity</th>\n",
       "      <th>qualif</th>\n",
       "      <th>region</th>\n",
       "      <th>city</th>\n",
       "      <th>benefits</th>\n",
       "      <th>contract</th>\n",
       "      <th>positions</th>\n",
       "      <th>job_post_id</th>\n",
       "      <th>exper</th>\n",
       "      <th>gender</th>\n",
       "    </tr>\n",
       "  </thead>\n",
       "  <tbody>\n",
       "  </tbody>\n",
       "</table>\n",
       "</div>"
      ],
      "text/plain": [
       "Empty DataFrame\n",
       "Columns: [job_title, job_date, job_desc, job_tasks, comp_name, comp_no, comp_type, comp_size, eco_activity, qualif, region, city, benefits, contract, positions, job_post_id, exper, gender]\n",
       "Index: []"
      ]
     },
     "metadata": {},
     "output_type": "display_data"
    },
    {
     "data": {
      "text/html": [
       "<div>\n",
       "<style scoped>\n",
       "    .dataframe tbody tr th:only-of-type {\n",
       "        vertical-align: middle;\n",
       "    }\n",
       "\n",
       "    .dataframe tbody tr th {\n",
       "        vertical-align: top;\n",
       "    }\n",
       "\n",
       "    .dataframe thead th {\n",
       "        text-align: right;\n",
       "    }\n",
       "</style>\n",
       "<table border=\"1\" class=\"dataframe\">\n",
       "  <thead>\n",
       "    <tr style=\"text-align: right;\">\n",
       "      <th></th>\n",
       "      <th>job_title</th>\n",
       "      <th>job_date</th>\n",
       "      <th>job_desc</th>\n",
       "      <th>job_tasks</th>\n",
       "      <th>comp_name</th>\n",
       "      <th>comp_no</th>\n",
       "      <th>comp_type</th>\n",
       "      <th>comp_size</th>\n",
       "      <th>eco_activity</th>\n",
       "      <th>qualif</th>\n",
       "      <th>region</th>\n",
       "      <th>city</th>\n",
       "      <th>benefits</th>\n",
       "      <th>contract</th>\n",
       "      <th>positions</th>\n",
       "      <th>job_post_id</th>\n",
       "      <th>exper</th>\n",
       "      <th>gender</th>\n",
       "    </tr>\n",
       "  </thead>\n",
       "  <tbody>\n",
       "  </tbody>\n",
       "</table>\n",
       "</div>"
      ],
      "text/plain": [
       "Empty DataFrame\n",
       "Columns: [job_title, job_date, job_desc, job_tasks, comp_name, comp_no, comp_type, comp_size, eco_activity, qualif, region, city, benefits, contract, positions, job_post_id, exper, gender]\n",
       "Index: []"
      ]
     },
     "metadata": {},
     "output_type": "display_data"
    }
   ],
   "source": [
    "display(jadarat_df[jadarat_df['eco_activity'].isnull()].head(2))\n",
    "display(jadarat_df[jadarat_df['comp_size'].isnull()].head(2))"
   ]
  },
  {
   "cell_type": "code",
   "execution_count": null,
   "id": "df16a44f",
   "metadata": {},
   "outputs": [],
   "source": []
  },
  {
   "cell_type": "markdown",
   "id": "952c5684",
   "metadata": {},
   "source": [
    "*********************************************\n",
    "Change gender column into words (Male, Female and both), instead of characters (M, F, both) to make it easier to read later on\n",
    "*********************************************"
   ]
  },
  {
   "cell_type": "code",
   "execution_count": 36,
   "id": "2f1e3e22",
   "metadata": {},
   "outputs": [
    {
     "data": {
      "text/html": [
       "<div>\n",
       "<style scoped>\n",
       "    .dataframe tbody tr th:only-of-type {\n",
       "        vertical-align: middle;\n",
       "    }\n",
       "\n",
       "    .dataframe tbody tr th {\n",
       "        vertical-align: top;\n",
       "    }\n",
       "\n",
       "    .dataframe thead th {\n",
       "        text-align: right;\n",
       "    }\n",
       "</style>\n",
       "<table border=\"1\" class=\"dataframe\">\n",
       "  <thead>\n",
       "    <tr style=\"text-align: right;\">\n",
       "      <th></th>\n",
       "      <th>job_title</th>\n",
       "      <th>job_date</th>\n",
       "      <th>job_desc</th>\n",
       "      <th>job_tasks</th>\n",
       "      <th>comp_name</th>\n",
       "      <th>comp_no</th>\n",
       "      <th>comp_type</th>\n",
       "      <th>comp_size</th>\n",
       "      <th>eco_activity</th>\n",
       "      <th>qualif</th>\n",
       "      <th>region</th>\n",
       "      <th>city</th>\n",
       "      <th>benefits</th>\n",
       "      <th>contract</th>\n",
       "      <th>positions</th>\n",
       "      <th>job_post_id</th>\n",
       "      <th>exper</th>\n",
       "      <th>gender</th>\n",
       "    </tr>\n",
       "  </thead>\n",
       "  <tbody>\n",
       "    <tr>\n",
       "      <th>0</th>\n",
       "      <td>محاسب</td>\n",
       "      <td>27/05/1444</td>\n",
       "      <td>['إعداد وتنظيم مستندات الصرف ومتابعة تحصيل الإ...</td>\n",
       "      <td>['   تدقيق المطالبات المالية والتأكد من اكتمال...</td>\n",
       "      <td>شركة مقر العالم للسفريات</td>\n",
       "      <td>1-317262</td>\n",
       "      <td>خاص</td>\n",
       "      <td>متوسطة فئة أ</td>\n",
       "      <td>أنشطة وكالات السياحة والسفر</td>\n",
       "      <td>['Language data', 'اللغة الانجليزية', 'محترف']</td>\n",
       "      <td>الرياض</td>\n",
       "      <td>AR RIYADH...</td>\n",
       "      <td>['Salary', '5000.0']</td>\n",
       "      <td>دوام كامل</td>\n",
       "      <td>0 / 1</td>\n",
       "      <td>20202026350419</td>\n",
       "      <td>0 Years</td>\n",
       "      <td>both</td>\n",
       "    </tr>\n",
       "    <tr>\n",
       "      <th>1</th>\n",
       "      <td>بائع</td>\n",
       "      <td>27/05/1444</td>\n",
       "      <td>['بيع مجموعة من السلع والخدمات للعملاء، وتوفير...</td>\n",
       "      <td>['   بيع مجموعة من السلع والخدمات للعملاء.', '...</td>\n",
       "      <td>شركة عالم الكهرباء للمقاولات</td>\n",
       "      <td>4-1324428</td>\n",
       "      <td>خاص</td>\n",
       "      <td>متوسطة فئة ب</td>\n",
       "      <td>تركيب انظمة التبريد وتكييف الهواء وصيانتها واص...</td>\n",
       "      <td>Unknown!</td>\n",
       "      <td>المنطقة الشرقية</td>\n",
       "      <td>AD DAMMAM...</td>\n",
       "      <td>['Salary', '5000.0']</td>\n",
       "      <td>دوام كامل</td>\n",
       "      <td>0 / 3</td>\n",
       "      <td>20202026350389</td>\n",
       "      <td>0 Years</td>\n",
       "      <td>both</td>\n",
       "    </tr>\n",
       "  </tbody>\n",
       "</table>\n",
       "</div>"
      ],
      "text/plain": [
       "  job_title    job_date                                           job_desc  \\\n",
       "0     محاسب  27/05/1444  ['إعداد وتنظيم مستندات الصرف ومتابعة تحصيل الإ...   \n",
       "1      بائع  27/05/1444  ['بيع مجموعة من السلع والخدمات للعملاء، وتوفير...   \n",
       "\n",
       "                                           job_tasks  \\\n",
       "0  ['   تدقيق المطالبات المالية والتأكد من اكتمال...   \n",
       "1  ['   بيع مجموعة من السلع والخدمات للعملاء.', '...   \n",
       "\n",
       "                      comp_name    comp_no comp_type     comp_size  \\\n",
       "0      شركة مقر العالم للسفريات   1-317262       خاص  متوسطة فئة أ   \n",
       "1  شركة عالم الكهرباء للمقاولات  4-1324428       خاص  متوسطة فئة ب   \n",
       "\n",
       "                                        eco_activity  \\\n",
       "0                        أنشطة وكالات السياحة والسفر   \n",
       "1  تركيب انظمة التبريد وتكييف الهواء وصيانتها واص...   \n",
       "\n",
       "                                           qualif           region  \\\n",
       "0  ['Language data', 'اللغة الانجليزية', 'محترف']           الرياض   \n",
       "1                                        Unknown!  المنطقة الشرقية   \n",
       "\n",
       "           city              benefits   contract positions     job_post_id  \\\n",
       "0  AR RIYADH...  ['Salary', '5000.0']  دوام كامل     0 / 1  20202026350419   \n",
       "1  AD DAMMAM...  ['Salary', '5000.0']  دوام كامل     0 / 3  20202026350389   \n",
       "\n",
       "     exper gender  \n",
       "0  0 Years   both  \n",
       "1  0 Years   both  "
      ]
     },
     "execution_count": 36,
     "metadata": {},
     "output_type": "execute_result"
    }
   ],
   "source": [
    "jadarat_df.head(2)"
   ]
  },
  {
   "cell_type": "code",
   "execution_count": 37,
   "id": "822fdb6c",
   "metadata": {},
   "outputs": [
    {
     "data": {
      "text/plain": [
       "array(['both', 'M', 'F'], dtype=object)"
      ]
     },
     "execution_count": 37,
     "metadata": {},
     "output_type": "execute_result"
    }
   ],
   "source": [
    "jadarat_df['gender'].unique()"
   ]
  },
  {
   "cell_type": "code",
   "execution_count": 38,
   "id": "d819b0f1",
   "metadata": {},
   "outputs": [
    {
     "name": "stdout",
     "output_type": "stream",
     "text": [
      "Males: (480, 18)\n",
      "Females: (403, 18)\n",
      "Both: (586, 18)\n"
     ]
    }
   ],
   "source": [
    "print('Males:',jadarat_df[jadarat_df['gender'] == 'M'].shape)\n",
    "print('Females:',jadarat_df[jadarat_df['gender'] == 'F'].shape)\n",
    "print('Both:',jadarat_df[jadarat_df['gender'] == 'both'].shape)"
   ]
  },
  {
   "cell_type": "code",
   "execution_count": 39,
   "id": "92bd6421",
   "metadata": {},
   "outputs": [],
   "source": [
    "jadarat_df['gender'] = jadarat_df['gender'].map(lambda x: 'Male' if x == 'M' else ('Female' if x == 'F' else 'both'))"
   ]
  },
  {
   "cell_type": "code",
   "execution_count": 40,
   "id": "4ead2e27",
   "metadata": {},
   "outputs": [
    {
     "name": "stdout",
     "output_type": "stream",
     "text": [
      "Males: (480, 18)\n",
      "Females: (403, 18)\n",
      "Both: (586, 18)\n"
     ]
    }
   ],
   "source": [
    "print('Males:',jadarat_df[jadarat_df['gender'] == 'Male'].shape)\n",
    "print('Females:',jadarat_df[jadarat_df['gender'] == 'Female'].shape)\n",
    "print('Both:',jadarat_df[jadarat_df['gender'] == 'both'].shape)"
   ]
  },
  {
   "cell_type": "markdown",
   "id": "bcc6981a",
   "metadata": {},
   "source": [
    "*********************************************\n",
    "Create a new column called Salary where it contains the salary of the job, extracted from the benefits column\n",
    "*********************************************"
   ]
  },
  {
   "cell_type": "code",
   "execution_count": 41,
   "id": "fcae88f0",
   "metadata": {},
   "outputs": [],
   "source": [
    "test = jadarat_df.loc[12,'benefits']"
   ]
  },
  {
   "cell_type": "code",
   "execution_count": 42,
   "id": "2766052d",
   "metadata": {},
   "outputs": [
    {
     "name": "stdout",
     "output_type": "stream",
     "text": [
      "<class 'str'>\n",
      "['Salary', '7200.0', 'Benefits', 'بدل نقل 800 ريال']\n"
     ]
    }
   ],
   "source": [
    "print(type(test))\n",
    "print(test)"
   ]
  },
  {
   "cell_type": "code",
   "execution_count": 43,
   "id": "32e6f007",
   "metadata": {},
   "outputs": [],
   "source": [
    "def get_salary(s):\n",
    "    match = re.search(r'Salary\\D*(\\d+\\.\\d+)', s)\n",
    "    \n",
    "    if match:\n",
    "        return float(match.group(1))\n",
    "    \n",
    "    else:\n",
    "        return None"
   ]
  },
  {
   "cell_type": "code",
   "execution_count": 44,
   "id": "f1c0263e",
   "metadata": {},
   "outputs": [],
   "source": [
    "jadarat_df['salary'] = jadarat_df['benefits'].map(get_salary)"
   ]
  },
  {
   "cell_type": "code",
   "execution_count": 45,
   "id": "cac93cac",
   "metadata": {},
   "outputs": [
    {
     "data": {
      "text/html": [
       "<div>\n",
       "<style scoped>\n",
       "    .dataframe tbody tr th:only-of-type {\n",
       "        vertical-align: middle;\n",
       "    }\n",
       "\n",
       "    .dataframe tbody tr th {\n",
       "        vertical-align: top;\n",
       "    }\n",
       "\n",
       "    .dataframe thead th {\n",
       "        text-align: right;\n",
       "    }\n",
       "</style>\n",
       "<table border=\"1\" class=\"dataframe\">\n",
       "  <thead>\n",
       "    <tr style=\"text-align: right;\">\n",
       "      <th></th>\n",
       "      <th>salary</th>\n",
       "    </tr>\n",
       "  </thead>\n",
       "  <tbody>\n",
       "    <tr>\n",
       "      <th>0</th>\n",
       "      <td>5000.0</td>\n",
       "    </tr>\n",
       "    <tr>\n",
       "      <th>1</th>\n",
       "      <td>5000.0</td>\n",
       "    </tr>\n",
       "    <tr>\n",
       "      <th>2</th>\n",
       "      <td>4000.0</td>\n",
       "    </tr>\n",
       "    <tr>\n",
       "      <th>3</th>\n",
       "      <td>5000.0</td>\n",
       "    </tr>\n",
       "    <tr>\n",
       "      <th>4</th>\n",
       "      <td>5000.0</td>\n",
       "    </tr>\n",
       "    <tr>\n",
       "      <th>5</th>\n",
       "      <td>4500.0</td>\n",
       "    </tr>\n",
       "    <tr>\n",
       "      <th>6</th>\n",
       "      <td>6000.0</td>\n",
       "    </tr>\n",
       "    <tr>\n",
       "      <th>7</th>\n",
       "      <td>8000.0</td>\n",
       "    </tr>\n",
       "    <tr>\n",
       "      <th>8</th>\n",
       "      <td>10000.0</td>\n",
       "    </tr>\n",
       "    <tr>\n",
       "      <th>9</th>\n",
       "      <td>5000.0</td>\n",
       "    </tr>\n",
       "  </tbody>\n",
       "</table>\n",
       "</div>"
      ],
      "text/plain": [
       "    salary\n",
       "0   5000.0\n",
       "1   5000.0\n",
       "2   4000.0\n",
       "3   5000.0\n",
       "4   5000.0\n",
       "5   4500.0\n",
       "6   6000.0\n",
       "7   8000.0\n",
       "8  10000.0\n",
       "9   5000.0"
      ]
     },
     "execution_count": 45,
     "metadata": {},
     "output_type": "execute_result"
    }
   ],
   "source": [
    "jadarat_df[['salary']].head(10)"
   ]
  },
  {
   "cell_type": "code",
   "execution_count": 46,
   "id": "21a75687",
   "metadata": {},
   "outputs": [
    {
     "data": {
      "text/html": [
       "<div>\n",
       "<style scoped>\n",
       "    .dataframe tbody tr th:only-of-type {\n",
       "        vertical-align: middle;\n",
       "    }\n",
       "\n",
       "    .dataframe tbody tr th {\n",
       "        vertical-align: top;\n",
       "    }\n",
       "\n",
       "    .dataframe thead th {\n",
       "        text-align: right;\n",
       "    }\n",
       "</style>\n",
       "<table border=\"1\" class=\"dataframe\">\n",
       "  <thead>\n",
       "    <tr style=\"text-align: right;\">\n",
       "      <th></th>\n",
       "      <th>job_title</th>\n",
       "      <th>job_date</th>\n",
       "      <th>job_desc</th>\n",
       "      <th>job_tasks</th>\n",
       "      <th>comp_name</th>\n",
       "      <th>comp_no</th>\n",
       "      <th>comp_type</th>\n",
       "      <th>comp_size</th>\n",
       "      <th>eco_activity</th>\n",
       "      <th>qualif</th>\n",
       "      <th>region</th>\n",
       "      <th>city</th>\n",
       "      <th>benefits</th>\n",
       "      <th>contract</th>\n",
       "      <th>positions</th>\n",
       "      <th>job_post_id</th>\n",
       "      <th>exper</th>\n",
       "      <th>gender</th>\n",
       "      <th>salary</th>\n",
       "    </tr>\n",
       "  </thead>\n",
       "  <tbody>\n",
       "  </tbody>\n",
       "</table>\n",
       "</div>"
      ],
      "text/plain": [
       "Empty DataFrame\n",
       "Columns: [job_title, job_date, job_desc, job_tasks, comp_name, comp_no, comp_type, comp_size, eco_activity, qualif, region, city, benefits, contract, positions, job_post_id, exper, gender, salary]\n",
       "Index: []"
      ]
     },
     "execution_count": 46,
     "metadata": {},
     "output_type": "execute_result"
    }
   ],
   "source": [
    "jadarat_df[jadarat_df['salary'].isnull()].head(2)"
   ]
  },
  {
   "cell_type": "markdown",
   "id": "41459b09",
   "metadata": {},
   "source": [
    "*********************************************\n",
    "Cast the exper column into integers since it only has the number of years of experience \n",
    "*********************************************"
   ]
  },
  {
   "cell_type": "code",
   "execution_count": 47,
   "id": "5a77d1e7",
   "metadata": {},
   "outputs": [
    {
     "data": {
      "text/plain": [
       "array(['0 Years', '2 Years', '4 Years', '10 Years', '7 Years', '12 Years'],\n",
       "      dtype=object)"
      ]
     },
     "execution_count": 47,
     "metadata": {},
     "output_type": "execute_result"
    }
   ],
   "source": [
    "jadarat_df['exper'].unique()"
   ]
  },
  {
   "cell_type": "code",
   "execution_count": 48,
   "id": "8a77467e",
   "metadata": {},
   "outputs": [],
   "source": [
    "jadarat_df['exper'] = jadarat_df['exper'].map(lambda x: int(x.split('Years')[0]))"
   ]
  },
  {
   "cell_type": "code",
   "execution_count": 49,
   "id": "54135577",
   "metadata": {},
   "outputs": [
    {
     "data": {
      "text/html": [
       "<div>\n",
       "<style scoped>\n",
       "    .dataframe tbody tr th:only-of-type {\n",
       "        vertical-align: middle;\n",
       "    }\n",
       "\n",
       "    .dataframe tbody tr th {\n",
       "        vertical-align: top;\n",
       "    }\n",
       "\n",
       "    .dataframe thead th {\n",
       "        text-align: right;\n",
       "    }\n",
       "</style>\n",
       "<table border=\"1\" class=\"dataframe\">\n",
       "  <thead>\n",
       "    <tr style=\"text-align: right;\">\n",
       "      <th></th>\n",
       "      <th>job_title</th>\n",
       "      <th>job_date</th>\n",
       "      <th>job_desc</th>\n",
       "      <th>job_tasks</th>\n",
       "      <th>comp_name</th>\n",
       "      <th>comp_no</th>\n",
       "      <th>comp_type</th>\n",
       "      <th>comp_size</th>\n",
       "      <th>eco_activity</th>\n",
       "      <th>qualif</th>\n",
       "      <th>region</th>\n",
       "      <th>city</th>\n",
       "      <th>benefits</th>\n",
       "      <th>contract</th>\n",
       "      <th>positions</th>\n",
       "      <th>job_post_id</th>\n",
       "      <th>exper</th>\n",
       "      <th>gender</th>\n",
       "      <th>salary</th>\n",
       "    </tr>\n",
       "  </thead>\n",
       "  <tbody>\n",
       "    <tr>\n",
       "      <th>0</th>\n",
       "      <td>محاسب</td>\n",
       "      <td>27/05/1444</td>\n",
       "      <td>['إعداد وتنظيم مستندات الصرف ومتابعة تحصيل الإ...</td>\n",
       "      <td>['   تدقيق المطالبات المالية والتأكد من اكتمال...</td>\n",
       "      <td>شركة مقر العالم للسفريات</td>\n",
       "      <td>1-317262</td>\n",
       "      <td>خاص</td>\n",
       "      <td>متوسطة فئة أ</td>\n",
       "      <td>أنشطة وكالات السياحة والسفر</td>\n",
       "      <td>['Language data', 'اللغة الانجليزية', 'محترف']</td>\n",
       "      <td>الرياض</td>\n",
       "      <td>AR RIYADH...</td>\n",
       "      <td>['Salary', '5000.0']</td>\n",
       "      <td>دوام كامل</td>\n",
       "      <td>0 / 1</td>\n",
       "      <td>20202026350419</td>\n",
       "      <td>0</td>\n",
       "      <td>both</td>\n",
       "      <td>5000.0</td>\n",
       "    </tr>\n",
       "    <tr>\n",
       "      <th>1</th>\n",
       "      <td>بائع</td>\n",
       "      <td>27/05/1444</td>\n",
       "      <td>['بيع مجموعة من السلع والخدمات للعملاء، وتوفير...</td>\n",
       "      <td>['   بيع مجموعة من السلع والخدمات للعملاء.', '...</td>\n",
       "      <td>شركة عالم الكهرباء للمقاولات</td>\n",
       "      <td>4-1324428</td>\n",
       "      <td>خاص</td>\n",
       "      <td>متوسطة فئة ب</td>\n",
       "      <td>تركيب انظمة التبريد وتكييف الهواء وصيانتها واص...</td>\n",
       "      <td>Unknown!</td>\n",
       "      <td>المنطقة الشرقية</td>\n",
       "      <td>AD DAMMAM...</td>\n",
       "      <td>['Salary', '5000.0']</td>\n",
       "      <td>دوام كامل</td>\n",
       "      <td>0 / 3</td>\n",
       "      <td>20202026350389</td>\n",
       "      <td>0</td>\n",
       "      <td>both</td>\n",
       "      <td>5000.0</td>\n",
       "    </tr>\n",
       "    <tr>\n",
       "      <th>2</th>\n",
       "      <td>أخصائي عمليات موارد بشرية</td>\n",
       "      <td>27/05/1444</td>\n",
       "      <td>['تنفيذ الإجراءات والأنظمة والنماذج الخاصة بمر...</td>\n",
       "      <td>['   تنفيذ الإجراءات والأنظمة والنماذج الخاصة ...</td>\n",
       "      <td>شركه دار السلام</td>\n",
       "      <td>1-155294</td>\n",
       "      <td>خاص</td>\n",
       "      <td>متوسطة فئة أ</td>\n",
       "      <td>ترميمات المباني السكنية والغير سكنية</td>\n",
       "      <td>['Language data', 'الانجليزيه', 'محترف']</td>\n",
       "      <td>الرياض</td>\n",
       "      <td>ATH THUMA...</td>\n",
       "      <td>['Salary', '4000.0']</td>\n",
       "      <td>دوام كامل</td>\n",
       "      <td>0 / 2</td>\n",
       "      <td>20202026350347</td>\n",
       "      <td>2</td>\n",
       "      <td>both</td>\n",
       "      <td>4000.0</td>\n",
       "    </tr>\n",
       "  </tbody>\n",
       "</table>\n",
       "</div>"
      ],
      "text/plain": [
       "                   job_title    job_date  \\\n",
       "0                      محاسب  27/05/1444   \n",
       "1                       بائع  27/05/1444   \n",
       "2  أخصائي عمليات موارد بشرية  27/05/1444   \n",
       "\n",
       "                                            job_desc  \\\n",
       "0  ['إعداد وتنظيم مستندات الصرف ومتابعة تحصيل الإ...   \n",
       "1  ['بيع مجموعة من السلع والخدمات للعملاء، وتوفير...   \n",
       "2  ['تنفيذ الإجراءات والأنظمة والنماذج الخاصة بمر...   \n",
       "\n",
       "                                           job_tasks  \\\n",
       "0  ['   تدقيق المطالبات المالية والتأكد من اكتمال...   \n",
       "1  ['   بيع مجموعة من السلع والخدمات للعملاء.', '...   \n",
       "2  ['   تنفيذ الإجراءات والأنظمة والنماذج الخاصة ...   \n",
       "\n",
       "                      comp_name    comp_no comp_type     comp_size  \\\n",
       "0      شركة مقر العالم للسفريات   1-317262       خاص  متوسطة فئة أ   \n",
       "1  شركة عالم الكهرباء للمقاولات  4-1324428       خاص  متوسطة فئة ب   \n",
       "2               شركه دار السلام   1-155294       خاص  متوسطة فئة أ   \n",
       "\n",
       "                                        eco_activity  \\\n",
       "0                        أنشطة وكالات السياحة والسفر   \n",
       "1  تركيب انظمة التبريد وتكييف الهواء وصيانتها واص...   \n",
       "2               ترميمات المباني السكنية والغير سكنية   \n",
       "\n",
       "                                           qualif           region  \\\n",
       "0  ['Language data', 'اللغة الانجليزية', 'محترف']           الرياض   \n",
       "1                                        Unknown!  المنطقة الشرقية   \n",
       "2        ['Language data', 'الانجليزيه', 'محترف']           الرياض   \n",
       "\n",
       "           city              benefits   contract positions     job_post_id  \\\n",
       "0  AR RIYADH...  ['Salary', '5000.0']  دوام كامل     0 / 1  20202026350419   \n",
       "1  AD DAMMAM...  ['Salary', '5000.0']  دوام كامل     0 / 3  20202026350389   \n",
       "2  ATH THUMA...  ['Salary', '4000.0']  دوام كامل     0 / 2  20202026350347   \n",
       "\n",
       "   exper gender  salary  \n",
       "0      0   both  5000.0  \n",
       "1      0   both  5000.0  \n",
       "2      2   both  4000.0  "
      ]
     },
     "execution_count": 49,
     "metadata": {},
     "output_type": "execute_result"
    }
   ],
   "source": [
    "jadarat_df.head(3)"
   ]
  },
  {
   "cell_type": "markdown",
   "id": "d5f23f4a",
   "metadata": {},
   "source": [
    "*********************************************\n",
    "Split the positions into 2 columns where we create a new column called Total_positions and the existing column (positions) will become the number of occupied positions \n",
    "*********************************************"
   ]
  },
  {
   "cell_type": "code",
   "execution_count": 50,
   "id": "577a1d16",
   "metadata": {},
   "outputs": [],
   "source": [
    "\n",
    "jadarat_df['total_positions'] = jadarat_df['positions'].map(lambda x: int(x.split('/')[1]))\n",
    "jadarat_df['positions'] = jadarat_df['positions'].map(lambda x: int(x.split('/')[0]))"
   ]
  },
  {
   "cell_type": "code",
   "execution_count": 51,
   "id": "d7b38c6a",
   "metadata": {},
   "outputs": [
    {
     "data": {
      "text/html": [
       "<div>\n",
       "<style scoped>\n",
       "    .dataframe tbody tr th:only-of-type {\n",
       "        vertical-align: middle;\n",
       "    }\n",
       "\n",
       "    .dataframe tbody tr th {\n",
       "        vertical-align: top;\n",
       "    }\n",
       "\n",
       "    .dataframe thead th {\n",
       "        text-align: right;\n",
       "    }\n",
       "</style>\n",
       "<table border=\"1\" class=\"dataframe\">\n",
       "  <thead>\n",
       "    <tr style=\"text-align: right;\">\n",
       "      <th></th>\n",
       "      <th>job_title</th>\n",
       "      <th>job_date</th>\n",
       "      <th>job_desc</th>\n",
       "      <th>job_tasks</th>\n",
       "      <th>comp_name</th>\n",
       "      <th>comp_no</th>\n",
       "      <th>comp_type</th>\n",
       "      <th>comp_size</th>\n",
       "      <th>eco_activity</th>\n",
       "      <th>qualif</th>\n",
       "      <th>region</th>\n",
       "      <th>city</th>\n",
       "      <th>benefits</th>\n",
       "      <th>contract</th>\n",
       "      <th>positions</th>\n",
       "      <th>job_post_id</th>\n",
       "      <th>exper</th>\n",
       "      <th>gender</th>\n",
       "      <th>salary</th>\n",
       "      <th>total_positions</th>\n",
       "    </tr>\n",
       "  </thead>\n",
       "  <tbody>\n",
       "    <tr>\n",
       "      <th>0</th>\n",
       "      <td>محاسب</td>\n",
       "      <td>27/05/1444</td>\n",
       "      <td>['إعداد وتنظيم مستندات الصرف ومتابعة تحصيل الإ...</td>\n",
       "      <td>['   تدقيق المطالبات المالية والتأكد من اكتمال...</td>\n",
       "      <td>شركة مقر العالم للسفريات</td>\n",
       "      <td>1-317262</td>\n",
       "      <td>خاص</td>\n",
       "      <td>متوسطة فئة أ</td>\n",
       "      <td>أنشطة وكالات السياحة والسفر</td>\n",
       "      <td>['Language data', 'اللغة الانجليزية', 'محترف']</td>\n",
       "      <td>الرياض</td>\n",
       "      <td>AR RIYADH...</td>\n",
       "      <td>['Salary', '5000.0']</td>\n",
       "      <td>دوام كامل</td>\n",
       "      <td>0</td>\n",
       "      <td>20202026350419</td>\n",
       "      <td>0</td>\n",
       "      <td>both</td>\n",
       "      <td>5000.0</td>\n",
       "      <td>1</td>\n",
       "    </tr>\n",
       "    <tr>\n",
       "      <th>1</th>\n",
       "      <td>بائع</td>\n",
       "      <td>27/05/1444</td>\n",
       "      <td>['بيع مجموعة من السلع والخدمات للعملاء، وتوفير...</td>\n",
       "      <td>['   بيع مجموعة من السلع والخدمات للعملاء.', '...</td>\n",
       "      <td>شركة عالم الكهرباء للمقاولات</td>\n",
       "      <td>4-1324428</td>\n",
       "      <td>خاص</td>\n",
       "      <td>متوسطة فئة ب</td>\n",
       "      <td>تركيب انظمة التبريد وتكييف الهواء وصيانتها واص...</td>\n",
       "      <td>Unknown!</td>\n",
       "      <td>المنطقة الشرقية</td>\n",
       "      <td>AD DAMMAM...</td>\n",
       "      <td>['Salary', '5000.0']</td>\n",
       "      <td>دوام كامل</td>\n",
       "      <td>0</td>\n",
       "      <td>20202026350389</td>\n",
       "      <td>0</td>\n",
       "      <td>both</td>\n",
       "      <td>5000.0</td>\n",
       "      <td>3</td>\n",
       "    </tr>\n",
       "    <tr>\n",
       "      <th>2</th>\n",
       "      <td>أخصائي عمليات موارد بشرية</td>\n",
       "      <td>27/05/1444</td>\n",
       "      <td>['تنفيذ الإجراءات والأنظمة والنماذج الخاصة بمر...</td>\n",
       "      <td>['   تنفيذ الإجراءات والأنظمة والنماذج الخاصة ...</td>\n",
       "      <td>شركه دار السلام</td>\n",
       "      <td>1-155294</td>\n",
       "      <td>خاص</td>\n",
       "      <td>متوسطة فئة أ</td>\n",
       "      <td>ترميمات المباني السكنية والغير سكنية</td>\n",
       "      <td>['Language data', 'الانجليزيه', 'محترف']</td>\n",
       "      <td>الرياض</td>\n",
       "      <td>ATH THUMA...</td>\n",
       "      <td>['Salary', '4000.0']</td>\n",
       "      <td>دوام كامل</td>\n",
       "      <td>0</td>\n",
       "      <td>20202026350347</td>\n",
       "      <td>2</td>\n",
       "      <td>both</td>\n",
       "      <td>4000.0</td>\n",
       "      <td>2</td>\n",
       "    </tr>\n",
       "  </tbody>\n",
       "</table>\n",
       "</div>"
      ],
      "text/plain": [
       "                   job_title    job_date  \\\n",
       "0                      محاسب  27/05/1444   \n",
       "1                       بائع  27/05/1444   \n",
       "2  أخصائي عمليات موارد بشرية  27/05/1444   \n",
       "\n",
       "                                            job_desc  \\\n",
       "0  ['إعداد وتنظيم مستندات الصرف ومتابعة تحصيل الإ...   \n",
       "1  ['بيع مجموعة من السلع والخدمات للعملاء، وتوفير...   \n",
       "2  ['تنفيذ الإجراءات والأنظمة والنماذج الخاصة بمر...   \n",
       "\n",
       "                                           job_tasks  \\\n",
       "0  ['   تدقيق المطالبات المالية والتأكد من اكتمال...   \n",
       "1  ['   بيع مجموعة من السلع والخدمات للعملاء.', '...   \n",
       "2  ['   تنفيذ الإجراءات والأنظمة والنماذج الخاصة ...   \n",
       "\n",
       "                      comp_name    comp_no comp_type     comp_size  \\\n",
       "0      شركة مقر العالم للسفريات   1-317262       خاص  متوسطة فئة أ   \n",
       "1  شركة عالم الكهرباء للمقاولات  4-1324428       خاص  متوسطة فئة ب   \n",
       "2               شركه دار السلام   1-155294       خاص  متوسطة فئة أ   \n",
       "\n",
       "                                        eco_activity  \\\n",
       "0                        أنشطة وكالات السياحة والسفر   \n",
       "1  تركيب انظمة التبريد وتكييف الهواء وصيانتها واص...   \n",
       "2               ترميمات المباني السكنية والغير سكنية   \n",
       "\n",
       "                                           qualif           region  \\\n",
       "0  ['Language data', 'اللغة الانجليزية', 'محترف']           الرياض   \n",
       "1                                        Unknown!  المنطقة الشرقية   \n",
       "2        ['Language data', 'الانجليزيه', 'محترف']           الرياض   \n",
       "\n",
       "           city              benefits   contract  positions     job_post_id  \\\n",
       "0  AR RIYADH...  ['Salary', '5000.0']  دوام كامل          0  20202026350419   \n",
       "1  AD DAMMAM...  ['Salary', '5000.0']  دوام كامل          0  20202026350389   \n",
       "2  ATH THUMA...  ['Salary', '4000.0']  دوام كامل          0  20202026350347   \n",
       "\n",
       "   exper gender  salary  total_positions  \n",
       "0      0   both  5000.0                1  \n",
       "1      0   both  5000.0                3  \n",
       "2      2   both  4000.0                2  "
      ]
     },
     "execution_count": 51,
     "metadata": {},
     "output_type": "execute_result"
    }
   ],
   "source": [
    "jadarat_df.head(3)"
   ]
  },
  {
   "cell_type": "code",
   "execution_count": 52,
   "id": "d194cb9b",
   "metadata": {},
   "outputs": [
    {
     "data": {
      "text/plain": [
       "(621, 20)"
      ]
     },
     "execution_count": 52,
     "metadata": {},
     "output_type": "execute_result"
    }
   ],
   "source": [
    "jadarat_df[jadarat_df['region'] == 'الرياض'].shape"
   ]
  },
  {
   "cell_type": "markdown",
   "id": "9d5c11ab",
   "metadata": {},
   "source": [
    "*********************************************\n",
    "Convert the Hijri date string into Gregorian date time type\n",
    "*********************************************"
   ]
  },
  {
   "cell_type": "code",
   "execution_count": 66,
   "id": "27ddecd8",
   "metadata": {},
   "outputs": [],
   "source": [
    "def change_hijri(hijri_date_str):\n",
    "    #I used try and catch because there are some rows that contains a string called Publish date\n",
    "    try:\n",
    "        day, month, year = map(int, hijri_date_str.split('/'))\n",
    "        hijri_date = Hijri(year, month, day)\n",
    "        gregorian_date = hijri_date.to_gregorian()\n",
    "        return pd.Timestamp(gregorian_date.year, gregorian_date.month, gregorian_date.day)\n",
    "    except:\n",
    "        pass"
   ]
  },
  {
   "cell_type": "code",
   "execution_count": 67,
   "id": "85ffe99f",
   "metadata": {},
   "outputs": [],
   "source": [
    "jadarat_df['job_date'] = jadarat_df['job_date'].apply(change_hijri)"
   ]
  },
  {
   "cell_type": "code",
   "execution_count": 69,
   "id": "a4aca4b5",
   "metadata": {},
   "outputs": [
    {
     "data": {
      "text/html": [
       "<div>\n",
       "<style scoped>\n",
       "    .dataframe tbody tr th:only-of-type {\n",
       "        vertical-align: middle;\n",
       "    }\n",
       "\n",
       "    .dataframe tbody tr th {\n",
       "        vertical-align: top;\n",
       "    }\n",
       "\n",
       "    .dataframe thead th {\n",
       "        text-align: right;\n",
       "    }\n",
       "</style>\n",
       "<table border=\"1\" class=\"dataframe\">\n",
       "  <thead>\n",
       "    <tr style=\"text-align: right;\">\n",
       "      <th></th>\n",
       "      <th>job_title</th>\n",
       "      <th>job_date</th>\n",
       "      <th>job_desc</th>\n",
       "      <th>job_tasks</th>\n",
       "      <th>comp_name</th>\n",
       "      <th>comp_no</th>\n",
       "      <th>comp_type</th>\n",
       "      <th>comp_size</th>\n",
       "      <th>eco_activity</th>\n",
       "      <th>qualif</th>\n",
       "      <th>region</th>\n",
       "      <th>city</th>\n",
       "      <th>benefits</th>\n",
       "      <th>contract</th>\n",
       "      <th>positions</th>\n",
       "      <th>job_post_id</th>\n",
       "      <th>exper</th>\n",
       "      <th>gender</th>\n",
       "      <th>salary</th>\n",
       "      <th>total_positions</th>\n",
       "    </tr>\n",
       "  </thead>\n",
       "  <tbody>\n",
       "    <tr>\n",
       "      <th>0</th>\n",
       "      <td>محاسب</td>\n",
       "      <td>2022-12-21</td>\n",
       "      <td>['إعداد وتنظيم مستندات الصرف ومتابعة تحصيل الإ...</td>\n",
       "      <td>['   تدقيق المطالبات المالية والتأكد من اكتمال...</td>\n",
       "      <td>شركة مقر العالم للسفريات</td>\n",
       "      <td>1-317262</td>\n",
       "      <td>خاص</td>\n",
       "      <td>متوسطة فئة أ</td>\n",
       "      <td>أنشطة وكالات السياحة والسفر</td>\n",
       "      <td>['Language data', 'اللغة الانجليزية', 'محترف']</td>\n",
       "      <td>الرياض</td>\n",
       "      <td>AR RIYADH...</td>\n",
       "      <td>['Salary', '5000.0']</td>\n",
       "      <td>دوام كامل</td>\n",
       "      <td>0</td>\n",
       "      <td>20202026350419</td>\n",
       "      <td>0</td>\n",
       "      <td>both</td>\n",
       "      <td>5000.0</td>\n",
       "      <td>1</td>\n",
       "    </tr>\n",
       "  </tbody>\n",
       "</table>\n",
       "</div>"
      ],
      "text/plain": [
       "  job_title   job_date                                           job_desc  \\\n",
       "0     محاسب 2022-12-21  ['إعداد وتنظيم مستندات الصرف ومتابعة تحصيل الإ...   \n",
       "\n",
       "                                           job_tasks  \\\n",
       "0  ['   تدقيق المطالبات المالية والتأكد من اكتمال...   \n",
       "\n",
       "                  comp_name   comp_no comp_type     comp_size  \\\n",
       "0  شركة مقر العالم للسفريات  1-317262       خاص  متوسطة فئة أ   \n",
       "\n",
       "                  eco_activity  \\\n",
       "0  أنشطة وكالات السياحة والسفر   \n",
       "\n",
       "                                           qualif  region          city  \\\n",
       "0  ['Language data', 'اللغة الانجليزية', 'محترف']  الرياض  AR RIYADH...   \n",
       "\n",
       "               benefits   contract  positions     job_post_id  exper gender  \\\n",
       "0  ['Salary', '5000.0']  دوام كامل          0  20202026350419      0   both   \n",
       "\n",
       "   salary  total_positions  \n",
       "0  5000.0                1  "
      ]
     },
     "execution_count": 69,
     "metadata": {},
     "output_type": "execute_result"
    }
   ],
   "source": [
    "jadarat_df.head(1)"
   ]
  },
  {
   "cell_type": "code",
   "execution_count": 53,
   "id": "01287962-8077-4c01-8d1d-5f8aed6cb37a",
   "metadata": {},
   "outputs": [],
   "source": [
    "# go back to 6th dimention --> Completeness"
   ]
  },
  {
   "cell_type": "markdown",
   "id": "f7cee10f-0af8-44e5-b595-8e965294daad",
   "metadata": {},
   "source": [
    "### Correcting errors\n",
    "\n",
    "-------------------"
   ]
  },
  {
   "cell_type": "code",
   "execution_count": null,
   "id": "06273b88-a169-42e8-81f5-5d71cb3f9c21",
   "metadata": {},
   "outputs": [],
   "source": []
  },
  {
   "cell_type": "code",
   "execution_count": 54,
   "id": "f1d95da5-a3ba-473a-8243-aa177cadae20",
   "metadata": {},
   "outputs": [],
   "source": [
    "# go back to 7th dimension Accuracy "
   ]
  },
  {
   "cell_type": "markdown",
   "id": "5ecc7dbb-6867-44cf-8f99-1b969a80be40",
   "metadata": {},
   "source": [
    "### Dealing with outliers:"
   ]
  },
  {
   "attachments": {},
   "cell_type": "markdown",
   "id": "88347887-4bdf-48af-9486-cb8fe80c97af",
   "metadata": {},
   "source": [
    "**How to remove Outliers?**\n",
    "Most of the ways to deal with outliers are similar to the methods of missing values like deleting rows, transforming them, binning them, treat them as a separate group, imputing values and other statistical methods. Here, we will discuss the common techniques used to deal with outliers:\n",
    "\n",
    "1. Deleting rows: We delete outlier values if it is due to data entry error, data processing error or outlier rows are very small in numbers. We can also use trimming at both ends to remove outliers.\n",
    "\n",
    "2. Imputing: Like imputation of missing values, we can also impute outliers. We can use mean, median, mode imputation methods. Before imputing values, we should analyse if it is natural outlier or artificial. If it is artificial, we can go with imputing values. We can also use statistical model to predict values of outlier rows and after that we can impute it with predicted values.\n",
    "\n",
    "3. Treat separately: If there are significant number of outliers, we should treat them separately in the statistical model. One of the approach is to treat both groups as two different groups and build individual model for both groups and then combine the output.\n"
   ]
  },
  {
   "cell_type": "code",
   "execution_count": null,
   "id": "25a585f0-2b9c-42fa-bf21-cacc6aa3be3f",
   "metadata": {},
   "outputs": [],
   "source": []
  },
  {
   "cell_type": "markdown",
   "id": "98548b66-e309-4eb8-a5dc-65fe0abbf1e8",
   "metadata": {},
   "source": [
    "## 3. Univariate Analysis: \n",
    "\n",
    "This involves examining single variables to understand their characteristics (distribution, central tendency, dispersion, and shape).\n",
    "\n",
    "We calculate **numerical values** about the data that tells us about the distribution of the data. We also **draw graphs** showing visually how the data is distributed. **To answer the following questions about Features/characteristics of Data:**\n",
    "- Where is the center of the data? (location)\n",
    "- How much does the data vary? (scale)\n",
    "- What is the shape of the data? (shape)\n",
    "\n",
    "**The benefits of this analysis:**\n",
    "Statistics summary gives a high-level idea to identify whether the data has any outliers, data entry error, distribution of data such as the data is normally distributed or left/right skewed\n",
    "\n",
    "**In this step, we will explore variables one by one using following approaches:**"
   ]
  },
  {
   "cell_type": "markdown",
   "id": "d6718111-7ac2-4fff-9851-654655b62e0b",
   "metadata": {},
   "source": [
    "### 1. Univariate Graphical Analysis:\n",
    "Method to perform uni-variate analysis will depend on whether the variable type is categorical or numerical."
   ]
  },
  {
   "cell_type": "code",
   "execution_count": 76,
   "id": "b794be58",
   "metadata": {},
   "outputs": [
    {
     "data": {
      "text/html": [
       "<div>\n",
       "<style scoped>\n",
       "    .dataframe tbody tr th:only-of-type {\n",
       "        vertical-align: middle;\n",
       "    }\n",
       "\n",
       "    .dataframe tbody tr th {\n",
       "        vertical-align: top;\n",
       "    }\n",
       "\n",
       "    .dataframe thead th {\n",
       "        text-align: right;\n",
       "    }\n",
       "</style>\n",
       "<table border=\"1\" class=\"dataframe\">\n",
       "  <thead>\n",
       "    <tr style=\"text-align: right;\">\n",
       "      <th></th>\n",
       "      <th>job_title</th>\n",
       "      <th>job_date</th>\n",
       "      <th>job_desc</th>\n",
       "      <th>job_tasks</th>\n",
       "      <th>comp_name</th>\n",
       "      <th>comp_no</th>\n",
       "      <th>comp_type</th>\n",
       "      <th>comp_size</th>\n",
       "      <th>eco_activity</th>\n",
       "      <th>qualif</th>\n",
       "      <th>region</th>\n",
       "      <th>city</th>\n",
       "      <th>benefits</th>\n",
       "      <th>contract</th>\n",
       "      <th>positions</th>\n",
       "      <th>job_post_id</th>\n",
       "      <th>exper</th>\n",
       "      <th>gender</th>\n",
       "      <th>salary</th>\n",
       "      <th>total_positions</th>\n",
       "    </tr>\n",
       "  </thead>\n",
       "  <tbody>\n",
       "    <tr>\n",
       "      <th>0</th>\n",
       "      <td>محاسب</td>\n",
       "      <td>2022-12-21</td>\n",
       "      <td>['إعداد وتنظيم مستندات الصرف ومتابعة تحصيل الإ...</td>\n",
       "      <td>['   تدقيق المطالبات المالية والتأكد من اكتمال...</td>\n",
       "      <td>شركة مقر العالم للسفريات</td>\n",
       "      <td>1-317262</td>\n",
       "      <td>خاص</td>\n",
       "      <td>متوسطة فئة أ</td>\n",
       "      <td>أنشطة وكالات السياحة والسفر</td>\n",
       "      <td>['Language data', 'اللغة الانجليزية', 'محترف']</td>\n",
       "      <td>الرياض</td>\n",
       "      <td>AR RIYADH...</td>\n",
       "      <td>['Salary', '5000.0']</td>\n",
       "      <td>دوام كامل</td>\n",
       "      <td>0</td>\n",
       "      <td>20202026350419</td>\n",
       "      <td>0</td>\n",
       "      <td>both</td>\n",
       "      <td>5000.0</td>\n",
       "      <td>1</td>\n",
       "    </tr>\n",
       "  </tbody>\n",
       "</table>\n",
       "</div>"
      ],
      "text/plain": [
       "  job_title   job_date                                           job_desc  \\\n",
       "0     محاسب 2022-12-21  ['إعداد وتنظيم مستندات الصرف ومتابعة تحصيل الإ...   \n",
       "\n",
       "                                           job_tasks  \\\n",
       "0  ['   تدقيق المطالبات المالية والتأكد من اكتمال...   \n",
       "\n",
       "                  comp_name   comp_no comp_type     comp_size  \\\n",
       "0  شركة مقر العالم للسفريات  1-317262       خاص  متوسطة فئة أ   \n",
       "\n",
       "                  eco_activity  \\\n",
       "0  أنشطة وكالات السياحة والسفر   \n",
       "\n",
       "                                           qualif  region          city  \\\n",
       "0  ['Language data', 'اللغة الانجليزية', 'محترف']  الرياض  AR RIYADH...   \n",
       "\n",
       "               benefits   contract  positions     job_post_id  exper gender  \\\n",
       "0  ['Salary', '5000.0']  دوام كامل          0  20202026350419      0   both   \n",
       "\n",
       "   salary  total_positions  \n",
       "0  5000.0                1  "
      ]
     },
     "execution_count": 76,
     "metadata": {},
     "output_type": "execute_result"
    }
   ],
   "source": [
    "jadarat_df.head(1)"
   ]
  },
  {
   "cell_type": "code",
   "execution_count": 74,
   "id": "b207481c",
   "metadata": {},
   "outputs": [
    {
     "data": {
      "text/plain": [
       "array(['محاسب', 'بائع', 'أخصائي عمليات موارد بشرية', 'ميكانيكي سيارات',\n",
       "       'مراقب كاميرات أمنية', 'سكرتير تنفيذي', 'مدير مكتب',\n",
       "       'أخصائي إدارة مشاريع', 'مصمم جرافيك', 'أخصائي ذكاء أعمال',\n",
       "       'محلل بيانات', 'مدير حساب عميل', 'مدخل بيانات', 'مطور برامج',\n",
       "       'أخصائي إدارة اداء', 'كيميائي', 'مهندس زراعي',\n",
       "       'محلل نظم المعلومات', 'مدير عام', 'مساعد إداري',\n",
       "       'كاتب علاقات حكومية', 'مندوب مبيعات', 'معلم حضانة', 'فني كيميائي',\n",
       "       'مهندس كهربائي', 'مهندس ميكانيكي', 'مدير إداري',\n",
       "       'فني هندسة ميكانيكية', 'فني هندسة كهربائية', 'مدير فرع',\n",
       "       'موظف استقبال فندق', 'أخصائي تسويق',\n",
       "       'كاتب استعلامات مركز خدمة عملاء', 'أخصائي خدمة عملاء',\n",
       "       'أخصائي جودة', 'معلم صفوف أولية', 'مساعد طب بيطري', 'صيدلي',\n",
       "       'مهندس معماري داخلي', 'مهندس معماري', 'بائع مأكولات ومشروبات',\n",
       "       'خطاط', 'منسق زهور', 'أخصائي تطوير إداري', 'مدير تسويق',\n",
       "       'مدير خدمة العملاء', 'مندوب مشتريات', 'فني تدفئة وتهوية وتكييف',\n",
       "       'مدير رقابة ادارية', 'موظف صندوق محاسبة', 'مدير تدريب', 'حارس أمن',\n",
       "       'طبيب أمراض جلدية', 'نادل', 'كاتب موارد بشرية', 'معلم ثانوي أحياء',\n",
       "       'معلم ثانوي لغة عربية', 'مهندس مدني', 'فني مختبر طبي',\n",
       "       'فني هندسة إلكترونية', 'سكرتير', 'مشرف مسكن', 'مصمم وسائط متعددة',\n",
       "       'سائق شاحنة ثقيلة', 'مدير عمليات موارد بشرية', 'عامل تصنيع',\n",
       "       'عامل كاونتر مأكولات ومشروبات', 'فني طوابع', 'طاهي', 'صراف عملات',\n",
       "       'مدير شؤون قانونية', 'مهندس كيميائي', 'فني انتاج مشتقات نفطية',\n",
       "       'موظف استقبال', 'أخصائي توظيف', 'محصل', 'أخصائي تغذية',\n",
       "       'مهندس تقنية معلومات', 'فني صيانة ميكانيكية', 'مساح إحصائي',\n",
       "       'فني مواد إنشائية', 'فني طرق', 'مهندس مواد', 'طبيب أسنان عام',\n",
       "       'سائق سيارة', 'سائق حافلة', 'منسق منتجات', 'إداري مواقع إلكترونية',\n",
       "       'فني صيانة أجهزة إلكترونية', 'أخصائي مشتريات', 'سكرتير طبي',\n",
       "       'فني علاج طبيعي', 'أخصائي علاج طبيعي', 'مشرف موقع إنشائي',\n",
       "       'مهندس نظم تقنية معلومات', 'مدير برمجيات',\n",
       "       'فني شبكات تقنية معلومات', 'اخصائي دعم فني', 'مشرف صيانة',\n",
       "       'مشرف تنظيف وتدبير', 'أخصائي مستودعات', 'بائع احذية وحقائب',\n",
       "       'سائق معدات ثقيلة', 'محامي', 'أخصائي سمعيات', 'مشرف تصنيع',\n",
       "       'أخصائي علوم حشرات', 'أخصائي مبيعات', 'مدير متجر', 'أخصائي نفسي',\n",
       "       'مشرف إنشاء مباني', 'أخصائي قانوني', 'مدير صيانة',\n",
       "       'فني ميكانيكي محركات', 'جندي أمن', 'طبيب عام', 'طبيب نفسي',\n",
       "       'أخصائي علاقات عامة', 'أخصائي مختبرات طبية', 'فني أشعة',\n",
       "       'محضر أطعمة باردة', 'أخصائي صحة عامة', 'فني أجهزة إلكترونية',\n",
       "       'أمين مخزن', 'بائع عطور', 'فني تجهيز طباعة', 'حاضنة أطفال',\n",
       "       'مدرب علوم تطبيقية', 'معلم ابتدائي تربية فنية',\n",
       "       'معلم مرحلة متوسطة حاسب آلي', 'معلم ابتدائي حاسب آلي',\n",
       "       'بائع ملابس جاهزة', 'فني كهربائي تمديدات كهربائية',\n",
       "       'أخصائي أسرة وطفولة', 'فني تشغيل محطة غاز', 'عامل مكافحة آفات',\n",
       "       'فني أجهزة دقيقة', 'مدير تقنية معلومات', 'رئيس منظمة غير ربحية',\n",
       "       'مدرس لغة أجنبية', 'مدير علاقات الأفراد', 'مساعد معلم',\n",
       "       'أخصائي تقنية إشعاعية', 'مشرف صحة وسلامة مهنية', 'أمين صندوق',\n",
       "       'مساعد طبيب أسنان', 'مدير توظيف', 'فني تمريض',\n",
       "       'معلم ابتدائي لغة أجنبية', 'معلم مرحلة متوسطة لغة عربية',\n",
       "       'سائق شاحنة صغيرة', 'فني كهربائي أنظمة حماية كهربائية',\n",
       "       'مساعد صحي', 'محاسب تكاليف', 'مراقب مالي', 'قهوجي', 'مشرف عقار',\n",
       "       'ميكانيكي مصاعد', 'أمين مكتبة', 'معلم رياض أطفال',\n",
       "       'معلم صعوبات التعلم', 'مدير مطعم', 'مدير مقهى', 'مشرف إنتاج',\n",
       "       'مهندس سلامة وصحة مهنية', 'قائد مدرسة', 'نجّار', 'مليّس',\n",
       "       'أخصائي صحة وسلامة مهنية', 'بائع ساعات', 'فني تنقية مجاري صرف صحي',\n",
       "       'أخصائي إعلامي', 'معد وجبات سريعة', 'فني علوم أغذية',\n",
       "       'أخصائي تمريض', 'مدير عمليات تشغيل', 'بائع هاتفي', 'أمين متجر',\n",
       "       'مدير طباعة ونشر', 'مبرمج قاعدة بيانات', 'فني نظم حاسب آلي',\n",
       "       'معالج صحة فم وأسنان', 'أخصائي أنشطة ثقافية', 'وسيط عقاري',\n",
       "       'مدير خدمات أطعمة ومشروبات', 'أخصائي مبيعات مستلزمات طبية',\n",
       "       'سكرتير قانوني', 'عامل تعبئة وتغليف', 'فني نظارات', 'فارز بريدي',\n",
       "       'مراقب الجودة', 'مشغل آلة درفلة معادن', 'بائع قطع غيار مركبات',\n",
       "       'كهربائي مباني', 'مدير حسابات', 'فني دعم تقنية معلومات',\n",
       "       'أخصائي تدريب وتطوير موارد بشرية',\n",
       "       'معلم ابتدائي إجتماعيات ولغة عربية وإسلاميات',\n",
       "       'معلم ثانوي لغة أجنبية', 'معلم ابتدائي علوم ورياضيات',\n",
       "       'وكيل مدرسة', 'معلم ثانوي فيزياء', 'أخصائي استمرارية الأعمال',\n",
       "       'مشغل مقسم هاتف', 'أخصائي تنظيم إداري',\n",
       "       'ميكانيكي تدفئة وتهوية وتكييف', 'فني كهربائي شبكات توزيع أرضية',\n",
       "       'كاتب اتصال', 'معلم ثانوي اجتماعيات', 'معلم ثانوي كيمياء',\n",
       "       'فني جودة', 'مطور مواقع الكترونية', 'أخصائي إدارة شبكات',\n",
       "       'محلل أمن نظم', 'مدير قواعد بيانات', 'أخصائي أمن بيانات',\n",
       "       'مهندس شبكات', 'مدير أنظمة تقنية معلومات', 'أخصائي حوسبة سحابية',\n",
       "       'أخصائي خوادم', 'أخصائي اضطرابات تخاطب', 'معلم ابتدائي',\n",
       "       'مساعد رعاية مرضى', 'بائع مجوهرات',\n",
       "       'أخصائي تنظيم مؤتمرات وفعاليات', 'مدير إعلام رقمي', 'مدرب مهني',\n",
       "       'مدرب أعمال وإدارة', 'مشغل آلة تعبئة منتجات كيميائية', 'فني معادن',\n",
       "       'فني كهربائي شبكات توزيع هوائية', 'بائع ادوات واجهزة منزلية',\n",
       "       'مهندس حاسب آلي', 'كاتب تذاكر سفر', 'قاطع تذاكر نقل', 'مدير أوقاف',\n",
       "       'بائع اثاث', 'محلل مبرمج', 'مصمم أثاث', 'مدير مبيعات جملة',\n",
       "       'رئيس تنفيذي', 'أخصائي مبيعات منتجات صيدلانية', 'فني كهروميكانيك',\n",
       "       'صانع حلويات', 'مترجم', 'مدير موارد بشرية أمن سيبراني', 'كاتب شحن',\n",
       "       'مصمم إعلان', 'كاتب استعلامات',\n",
       "       'أخصائي مبيعات نظم تقنية المعلومات والاتصالات', 'كهربائي سيارات',\n",
       "       'مبرمج تطبيقات', 'مهندس صناعي', 'أخصائي جغرافيا', 'أخصائي بصريات',\n",
       "       'كاتب رواتب', 'مدير مستودع', 'مراجع داخلي', 'مصفف شعر',\n",
       "       'مهندس إلكترونيات', 'كاتب استقبال مرضى', 'مدير عمليات سلامة',\n",
       "       'فني عمليات تقنية معلومات', 'طيار جناح ثابت', 'مدير مالي',\n",
       "       'مساح كميات', 'فني هندسة مدنية', 'أخصائي أمراض نطق وسمع',\n",
       "       'مدير أشغال ومرافق عامة', 'فني صيانة مباني',\n",
       "       'فني ميكانيكي تمديدات صحية وتدفئة وغاز', 'فني تغذية',\n",
       "       'سائق رافعة شوكية', 'أخصائي استشارات أعمال', 'كاتب إنتاج',\n",
       "       'مدير تطوير موارد بشرية', 'مراقب متجر', 'سباك', 'بناء', 'دهّان',\n",
       "       'مدير متابعة وأداء مؤسسي', 'مراقب خدمات عامة',\n",
       "       'مشغل آلة صناعات كيميائية', 'مدير إدارة مشاريع',\n",
       "       'فني مواقع إلكترونية', 'مبلط', 'معلم ثانوي رياضيات', 'بائع كشك',\n",
       "       'مدير مركز رعاية ذوي الاعاقة', 'محرر صحفي', 'فني إنشاءات',\n",
       "       'فني حساب كميات', 'فني مساحة', 'فني صيانة انشاءات',\n",
       "       'فني شبكات اتصالات', 'أخصائي أنشطة طلابية', 'محضر مختبر علوم',\n",
       "       'مرشد طلابي', 'كاتب بيانات عملاء', 'أخصائي بيانات ضخمة',\n",
       "       'مخلص جمركي', 'مهندس إدارة مشاريع', 'فني أجهزة طبية', 'بائع مباشر',\n",
       "       'فني تصميم داخلي', 'مهندس إنتاج', 'أخصائي تأمين', 'مراسل',\n",
       "       'مسؤول تراخيص وتصاريح', 'مدير بحث وتطوير', 'مهندس بيئي',\n",
       "       'مشغل آلات تصنيع منتجات بلاستيكية', 'أخصائي علاج وظيفي', 'خياط',\n",
       "       'رسام خرائط', 'مأمور سنترال', 'محقق مالي', 'مدير خدمات مشتركة',\n",
       "       'مصنف أطعمة ومشروبات', 'أخصائي علوم أحياء دقيقة',\n",
       "       'نجار هياكل خشبية', 'مدير مشتريات', 'مشرف مدخلي البيانات',\n",
       "       'مشغل آلة تشطيب رخام'], dtype=object)"
      ]
     },
     "execution_count": 74,
     "metadata": {},
     "output_type": "execute_result"
    }
   ],
   "source": [
    "jadarat_df['job_title'].unique()"
   ]
  },
  {
   "cell_type": "code",
   "execution_count": 55,
   "id": "66a40ed3",
   "metadata": {},
   "outputs": [
    {
     "data": {
      "image/png": "[encoded data removed]",
      "text/plain": [
       "<Figure size 640x480 with 1 Axes>"
      ]
     },
     "metadata": {},
     "output_type": "display_data"
    }
   ],
   "source": [
    "plt.hist(jadarat_df['salary'],facecolor = 'b', bins = 15) # bins = 6 means 6 bars\n",
    "plt.xlabel('salary/Hr')\n",
    "plt.ylabel('Frequency')\n",
    "plt.title(f'Histogram of salary')\n",
    "plt.show()"
   ]
  },
  {
   "cell_type": "code",
   "execution_count": 56,
   "id": "53169e79",
   "metadata": {},
   "outputs": [
    {
     "data": {
      "image/png": "[encoded data removed]",
      "text/plain": [
       "<Figure size 640x480 with 1 Axes>"
      ]
     },
     "metadata": {},
     "output_type": "display_data"
    }
   ],
   "source": [
    "plt.boxplot(jadarat_df['salary'])\n",
    "plt.xlabel('salary')\n",
    "plt.ylabel('Frequency')\n",
    "plt.title(f'Box plot of salary')\n",
    "plt.show()"
   ]
  },
  {
   "cell_type": "code",
   "execution_count": 57,
   "id": "99de6f21",
   "metadata": {},
   "outputs": [
    {
     "data": {
      "image/png": "[encoded data removed]",
      "text/plain": [
       "<Figure size 640x480 with 1 Axes>"
      ]
     },
     "metadata": {},
     "output_type": "display_data"
    }
   ],
   "source": [
    "plt.boxplot(jadarat_df['exper'])\n",
    "plt.xlabel('experience')\n",
    "plt.ylabel('Frequency')\n",
    "plt.title(f'Box plot of experience')\n",
    "plt.show()"
   ]
  },
  {
   "cell_type": "markdown",
   "id": "56effcb4",
   "metadata": {},
   "source": [
    "**What proportion of job postings is attributed to each region within the\n",
    "kingdom?**<br>\n",
    "<img src=\"Imgs\\Q1-ansr.png\" >"
   ]
  },
  {
   "cell_type": "markdown",
   "id": "921b3345",
   "metadata": {},
   "source": [
    "**Is there a gender preference indicated in the job postings?**<br>\n",
    "<img src=\"Imgs\\Q2-ansr.png\" >"
   ]
  },
  {
   "cell_type": "markdown",
   "id": "4a0b2bbe",
   "metadata": {},
   "source": [
    "**What is the expected salary range for fresh graduates?**<br>\n",
    "<img src=\"Imgs\\Q3-ansr.png\" >"
   ]
  },
  {
   "cell_type": "code",
   "execution_count": 58,
   "id": "03a4c6d4",
   "metadata": {},
   "outputs": [
    {
     "data": {
      "text/plain": [
       "<Figure size 2500x1000 with 0 Axes>"
      ]
     },
     "metadata": {},
     "output_type": "display_data"
    },
    {
     "data": {
      "image/png": "[encoded data removed]",
      "text/plain": [
       "<Figure size 640x480 with 1 Axes>"
      ]
     },
     "metadata": {},
     "output_type": "display_data"
    }
   ],
   "source": [
    "experiences = jadarat_df['exper']\n",
    "salaries = jadarat_df['salary'] \n",
    "\n",
    "data = pd.DataFrame({'Experience': experiences, 'Salary': salaries})\n",
    "\n",
    "\n",
    "grouped_data = data.groupby('Experience')['Salary'].describe()\n",
    "\n",
    "\n",
    "plt.figure(figsize=(25, 10))  \n",
    "grouped_data[['25%', '50%', '75%']].plot(kind='line', color=['skyblue', 'blue', 'skyblue'], marker='o')\n",
    "plt.fill_between(grouped_data.index, grouped_data['25%'], grouped_data['75%'], color='skyblue', alpha=0.3)\n",
    "plt.scatter(grouped_data.index, grouped_data['50%'], color='blue', label='Median', zorder=3)\n",
    "plt.title('Salary Range by Years of Experience')\n",
    "plt.xlabel('Years of Experience')\n",
    "plt.ylabel('Salary Range')\n",
    "plt.legend()\n",
    "plt.grid(True)\n",
    "plt.show()"
   ]
  },
  {
   "cell_type": "markdown",
   "id": "f7c12bad",
   "metadata": {},
   "source": [
    "***Are job opportunities predominantly targeted at individuals with experience, or\n",
    "is there room for fresh graduates as well?***\n",
    "<img src=\"Imgs\\Q4-ansr.png\" >"
   ]
  },
  {
   "cell_type": "code",
   "execution_count": 59,
   "id": "db79d803-b75c-4686-a623-e8420321a90f",
   "metadata": {},
   "outputs": [
    {
     "data": {
      "image/png": "[encoded data removed]",
      "text/plain": [
       "<Figure size 1000x600 with 1 Axes>"
      ]
     },
     "metadata": {},
     "output_type": "display_data"
    }
   ],
   "source": [
    "plt.figure(figsize=(10, 6))\n",
    "sns.boxplot(x='gender', y='salary', data=jadarat_df)\n",
    "\n",
    "\n",
    "plt.title('Salary Range by Gender')\n",
    "plt.xlabel('Gender')\n",
    "plt.ylabel('Salary')\n",
    "plt.savefig('salary_range_by_gender.png')\n",
    "plt.show()"
   ]
  },
  {
   "cell_type": "markdown",
   "id": "0d57c4b9-9bb3-494d-85dd-b8d39afda139",
   "metadata": {},
   "source": [
    "#### I. Categorical Variables:\n",
    "\n",
    "we’ll use frequency table to understand distribution of each category\n",
    "- Bar Chart (Ordinal) - Orderd\n",
    "- Pie Chart (Nominal) - non Orderd"
   ]
  },
  {
   "cell_type": "code",
   "execution_count": null,
   "id": "72ece4b7-5508-403a-8fb0-f519fc74272a",
   "metadata": {},
   "outputs": [],
   "source": []
  },
  {
   "cell_type": "markdown",
   "id": "d2641f0d-80f2-493b-99b7-15476379a1e2",
   "metadata": {},
   "source": [
    "#### II. Numerical Variables:\n",
    "\n",
    "we need to understand the central tendency and spread of the variable (Descriptive Analysis) using:\n",
    "   - Box plot\n",
    "   - Histogram"
   ]
  },
  {
   "cell_type": "code",
   "execution_count": null,
   "id": "5be16f08-a072-4a02-a3ee-6f9d57786fb4",
   "metadata": {},
   "outputs": [],
   "source": []
  },
  {
   "cell_type": "markdown",
   "id": "d66677d3-44ad-414f-9b39-f9c1995ad043",
   "metadata": {},
   "source": [
    "### 2. Univariate Non-Graphical analysis: \n",
    "\n",
    "- Where is the center of the data? (location) --> **Measures of central tendency**\n",
    "- How much does the data vary? (scale) --> **Measure of variability**\n",
    "- What is the shape of the data? (shape) --> **Measures of variation combined with an average (measure of center) gives a good picture of the distribution of the data.**"
   ]
  },
  {
   "cell_type": "code",
   "execution_count": null,
   "id": "f1058d84-e61e-4f5b-b66a-29931e77821b",
   "metadata": {},
   "outputs": [],
   "source": []
  },
  {
   "cell_type": "markdown",
   "id": "f09bb809-0edd-432b-bf23-abd0840b3e16",
   "metadata": {},
   "source": [
    "## 4. Bivariate/Multivariate Analysis:\n",
    "\n",
    "Here, you look at the relationships between two or more variables. This can involve looking for correlations, patterns, and trends that suggest a relationship or an association.\n",
    "\n",
    "We can perform bi-variate analysis for any combination of categorical and numerical variables. The combination can be:\n",
    "| bi-variate variables   | Plot type |\n",
    "| ------------- | ------------- |\n",
    "| Categorical & Categorical| Stacked Bar Chart |\n",
    "| Categorical & numerical  | scatter plot, histogram, box plot|\n",
    "| numerical  & numerical  | Scatter plot, line chart| \n",
    "\n",
    "\n",
    "Multivariate Analysis:\n",
    "- Heat map\n",
    "- Bar Chart\n",
    "- Scatter Chart\n",
    "- Line Chart"
   ]
  },
  {
   "cell_type": "markdown",
   "id": "838f2864-ce9e-4f15-99c8-052d053154a7",
   "metadata": {},
   "source": [
    "**Categorical & Categorical --> (Stacked Column Chart)**"
   ]
  },
  {
   "cell_type": "code",
   "execution_count": null,
   "id": "73f9f2ac-8477-49ea-9c68-4fe44d4395b6",
   "metadata": {},
   "outputs": [],
   "source": []
  },
  {
   "cell_type": "markdown",
   "id": "730e088f-fe13-40da-8fbb-686f5135fa4d",
   "metadata": {},
   "source": [
    "**Categorical & numerical --> (scatter plot, histogram, box plot)**"
   ]
  },
  {
   "cell_type": "code",
   "execution_count": null,
   "id": "3590e345-2051-4215-91ac-07d196b510ef",
   "metadata": {},
   "outputs": [],
   "source": []
  },
  {
   "cell_type": "markdown",
   "id": "20aed48d-b78e-46da-963f-e7f15e2f4dc7",
   "metadata": {},
   "source": [
    "**numerical & numerical --> (Scatter plot, line chart)**"
   ]
  },
  {
   "cell_type": "code",
   "execution_count": null,
   "id": "41023177-01cb-4f39-a750-12be71b13bda",
   "metadata": {},
   "outputs": [],
   "source": []
  },
  {
   "cell_type": "markdown",
   "id": "efb43b30-b1f0-48a4-a19c-195810cc8a0f",
   "metadata": {},
   "source": [
    "We could also use a correlation matrix to get more specific information about the relationship between these two variables."
   ]
  },
  {
   "cell_type": "code",
   "execution_count": null,
   "id": "8406f58f-b825-4a15-8f6e-c68ca66bd483",
   "metadata": {},
   "outputs": [],
   "source": []
  },
  {
   "cell_type": "code",
   "execution_count": 77,
   "id": "0037ed17",
   "metadata": {},
   "outputs": [],
   "source": [
    "jadarat_df.to_csv('jadarat_clean.csv', index=False)"
   ]
  },
  {
   "cell_type": "code",
   "execution_count": null,
   "id": "d6e7f7bf",
   "metadata": {},
   "outputs": [],
   "source": []
  }
 ],
 "metadata": {
  "kernelspec": {
   "display_name": "Python 3",
   "language": "python",
   "name": "python3"
  },
  "language_info": {
   "codemirror_mode": {
    "name": "ipython",
    "version": 3
   },
   "file_extension": ".py",
   "mimetype": "text/x-python",
   "name": "python",
   "nbconvert_exporter": "python",
   "pygments_lexer": "ipython3",
   "version": "3.11.4"
  }
 },
 "nbformat": 4,
 "nbformat_minor": 5
}
